{
  "nbformat": 4,
  "nbformat_minor": 0,
  "metadata": {
    "colab": {
      "name": "Preprocessing.ipynb #3",
      "provenance": [],
      "collapsed_sections": [],
      "toc_visible": true
    },
    "kernelspec": {
      "name": "python3",
      "display_name": "Python 3"
    },
    "language_info": {
      "name": "python"
    }
  },
  "cells": [
    {
      "cell_type": "code",
      "metadata": {
        "colab": {
          "base_uri": "https://localhost:8080/"
        },
        "id": "k3NFm6LBXXXt",
        "outputId": "b7bb0eb6-e737-4b0f-bf00-80245a1217be"
      },
      "source": [
        "!pip uninstall scikit-learn -y\n",
        "!pip install -U scikit-learn"
      ],
      "execution_count": null,
      "outputs": [
        {
          "output_type": "stream",
          "text": [
            "Uninstalling scikit-learn-0.24.2:\n",
            "  Successfully uninstalled scikit-learn-0.24.2\n",
            "Collecting scikit-learn\n",
            "  Using cached https://files.pythonhosted.org/packages/a8/eb/a48f25c967526b66d5f1fa7a984594f0bf0a5afafa94a8c4dbc317744620/scikit_learn-0.24.2-cp37-cp37m-manylinux2010_x86_64.whl\n",
            "Requirement already satisfied, skipping upgrade: threadpoolctl>=2.0.0 in /usr/local/lib/python3.7/dist-packages (from scikit-learn) (2.1.0)\n",
            "Requirement already satisfied, skipping upgrade: numpy>=1.13.3 in /usr/local/lib/python3.7/dist-packages (from scikit-learn) (1.19.5)\n",
            "Requirement already satisfied, skipping upgrade: joblib>=0.11 in /usr/local/lib/python3.7/dist-packages (from scikit-learn) (1.0.1)\n",
            "Requirement already satisfied, skipping upgrade: scipy>=0.19.1 in /usr/local/lib/python3.7/dist-packages (from scikit-learn) (1.4.1)\n",
            "Installing collected packages: scikit-learn\n",
            "Successfully installed scikit-learn-0.24.2\n"
          ],
          "name": "stdout"
        }
      ]
    },
    {
      "cell_type": "markdown",
      "metadata": {
        "id": "Z0AA8oNJXaRa"
      },
      "source": [
        "<h2>Load csv into dataframe</h2>"
      ]
    },
    {
      "cell_type": "code",
      "metadata": {
        "id": "1Ti4zhRuXcJ3"
      },
      "source": [
        "#Imports\n",
        "import pandas as pd\n",
        "import numpy as np\n",
        "from sklearn.preprocessing import OneHotEncoder, LabelEncoder, MinMaxScaler"
      ],
      "execution_count": null,
      "outputs": []
    },
    {
      "cell_type": "markdown",
      "metadata": {
        "id": "0SW0rCOGTrqa"
      },
      "source": [
        "<h2>Get previous stats into the dataframe</h2>"
      ]
    },
    {
      "cell_type": "code",
      "metadata": {
        "id": "zx2YIjcuX0DO"
      },
      "source": [
        "#Use the GamesClean.csv made from the NeuralNetClean #2.rmd from Neural Network and Text Analysis Folder\n",
        "df = pd.read_csv(r'/content/GamesClean.csv')\n",
        "\n",
        "# Need this so that we don't get an error for empty columns.\n",
        "combined_df = pd.DataFrame(columns = [\"\"] * 26) \n",
        "\n",
        "for team in pd.unique(df[\"Team\"]):\n",
        "  # Get previous columns\n",
        "  prev = df.loc[df[\"Team\"] == team]\n",
        "  # Rename the previous columns with a prev\n",
        "  columns = list(prev) \n",
        "  for i in range(len(columns)):\n",
        "    columns[i] = \"prev_\" + columns[i]\n",
        "  prev.columns = columns\n",
        "\n",
        "  # Add place holders. Prev gets one at the end and cur gets one at the start.\n",
        "  # This is done so prev is actually the previous values.\n",
        "  prev = prev.append(pd.DataFrame([prev.iloc[0]]))\n",
        "  cur = df.loc[df[\"Team\"] == team]\n",
        "  cur = pd.DataFrame([cur.iloc[0]]).append(cur)              \n",
        "\n",
        "  cur.reset_index(drop=True, inplace=True)\n",
        "  prev.reset_index(drop=True, inplace=True)\n",
        "\n",
        "  # Combine the dataframes\n",
        "  combined = pd.concat([cur, prev], axis = 1, ignore_index = True)\n",
        "  combined_cols = list(cur.columns)\n",
        "  combined_cols.extend(list(prev.columns))\n",
        "  combined.columns = combined_cols\n",
        "\n",
        "  # Drop first and last rows\n",
        "  combined = combined.drop(combined.index[[0]])\n",
        "  combined = combined.drop(combined.index[[-1]])\n",
        "\n",
        "  combined_df.columns = combined.columns\n",
        "  combined_df = combined_df.append(combined)"
      ],
      "execution_count": null,
      "outputs": []
    },
    {
      "cell_type": "markdown",
      "metadata": {
        "id": "FLXNdpYMeXRq"
      },
      "source": [
        "<h2>Add month / year / team id</h2>"
      ]
    },
    {
      "cell_type": "code",
      "metadata": {
        "id": "kj8OyaZfjX3v",
        "colab": {
          "base_uri": "https://localhost:8080/"
        },
        "outputId": "84b0df4a-2243-464c-f4b9-99d87c12cc42"
      },
      "source": [
        "import psycopg2\n",
        "\n",
        "db_login = {\n",
        "    'database': 'basketball',\n",
        "    'user': 'globetrotter',\n",
        "    'password': 'alpacaalpaca',\n",
        "    'host': 'blaskey.dev',\n",
        "    'port': 5432\n",
        "}\n",
        "conn = psycopg2.connect(**db_login)\n",
        "cur = conn.cursor()"
      ],
      "execution_count": null,
      "outputs": [
        {
          "output_type": "stream",
          "text": [
            "/usr/local/lib/python3.7/dist-packages/psycopg2/__init__.py:144: UserWarning: The psycopg2 wheel package will be renamed from release 2.8; in order to keep installing from binary please use \"pip install psycopg2-binary\" instead. For details see: <http://initd.org/psycopg/docs/install.html#binary-install-from-pypi>.\n",
            "  \"\"\")\n"
          ],
          "name": "stderr"
        }
      ]
    },
    {
      "cell_type": "code",
      "metadata": {
        "colab": {
          "base_uri": "https://localhost:8080/"
        },
        "id": "oHIV8DpEjPK3",
        "outputId": "39e90908-d461-4c6c-ee45-f1548b527196"
      },
      "source": [
        "# Get list of team names and ids\n",
        "conn.rollback()\n",
        "cur.execute(\"SELECT team_id, nickname FROM team\")\n",
        "team_to_id = {}\n",
        "for i in cur.fetchall():\n",
        "  team_to_id[i[1]] = i[0]\n",
        "print(team_to_id)"
      ],
      "execution_count": null,
      "outputs": [
        {
          "output_type": "stream",
          "text": [
            "{'Hawks': 1610612737, 'Celtics': 1610612738, 'Bulls': 1610612741, 'Mavericks': 1610612742, 'Nuggets': 1610612743, 'Rockets': 1610612745, 'Clippers': 1610612746, 'Lakers': 1610612747, 'Heat': 1610612748, 'Bucks': 1610612749, 'Timberwolves': 1610612750, 'Knicks': 1610612752, 'Pacers': 1610612754, 'Trail Blazers': 1610612757, 'Kings': 1610612758, 'Spurs': 1610612759, 'Thunder': 1610612760, 'Raptors': 1610612761, 'Jazz': 1610612762, 'Grizzlies': 1610612763, 'Wizards': 1610612764, 'Pistons': 1610612765, 'Hornets': 1610612766, 'Cavaliers': 1610612739, 'Warriors': 1610612744, 'Pelicans': 1610612740, '76ers': 1610612755, 'Suns': 1610612756, 'Magic': 1610612753, 'Nets': 1610612751}\n"
          ],
          "name": "stdout"
        }
      ]
    },
    {
      "cell_type": "code",
      "metadata": {
        "id": "9RBhSygpeajc"
      },
      "source": [
        "combined_df[\"Month\"] = combined_df[\"Date\"].apply(lambda x: int(x.split(\"/\")[0]))\n",
        "combined_df[\"Year\"] = combined_df[\"Date\"].apply(lambda x: int(x.split(\"/\")[2]))  \n",
        "combined_df[\"Team_id\"] = combined_df[\"Team\"].apply(lambda x: team_to_id[x])  "
      ],
      "execution_count": null,
      "outputs": []
    },
    {
      "cell_type": "code",
      "metadata": {
        "colab": {
          "base_uri": "https://localhost:8080/",
          "height": 461
        },
        "id": "op4dZD5jh-XM",
        "outputId": "58863d93-6bd5-44dc-bfd4-cc7b19a7271a"
      },
      "source": [
        "combined_df"
      ],
      "execution_count": null,
      "outputs": [
        {
          "output_type": "execute_result",
          "data": {
            "text/html": [
              "<div>\n",
              "<style scoped>\n",
              "    .dataframe tbody tr th:only-of-type {\n",
              "        vertical-align: middle;\n",
              "    }\n",
              "\n",
              "    .dataframe tbody tr th {\n",
              "        vertical-align: top;\n",
              "    }\n",
              "\n",
              "    .dataframe thead th {\n",
              "        text-align: right;\n",
              "    }\n",
              "</style>\n",
              "<table border=\"1\" class=\"dataframe\">\n",
              "  <thead>\n",
              "    <tr style=\"text-align: right;\">\n",
              "      <th></th>\n",
              "      <th>Unnamed: 0</th>\n",
              "      <th>Date</th>\n",
              "      <th>Team</th>\n",
              "      <th>Points</th>\n",
              "      <th>FG_PCT</th>\n",
              "      <th>FT_PCT</th>\n",
              "      <th>FG3_PCT</th>\n",
              "      <th>Assists</th>\n",
              "      <th>Rebounds</th>\n",
              "      <th>Positivity</th>\n",
              "      <th>Tweet</th>\n",
              "      <th>Home</th>\n",
              "      <th>Win</th>\n",
              "      <th>prev_Unnamed: 0</th>\n",
              "      <th>prev_Date</th>\n",
              "      <th>prev_Team</th>\n",
              "      <th>prev_Points</th>\n",
              "      <th>prev_FG_PCT</th>\n",
              "      <th>prev_FT_PCT</th>\n",
              "      <th>prev_FG3_PCT</th>\n",
              "      <th>prev_Assists</th>\n",
              "      <th>prev_Rebounds</th>\n",
              "      <th>prev_Positivity</th>\n",
              "      <th>prev_Tweet</th>\n",
              "      <th>prev_Home</th>\n",
              "      <th>prev_Win</th>\n",
              "      <th>Month</th>\n",
              "      <th>Year</th>\n",
              "      <th>Team_id</th>\n",
              "    </tr>\n",
              "  </thead>\n",
              "  <tbody>\n",
              "    <tr>\n",
              "      <th>1</th>\n",
              "      <td>33460</td>\n",
              "      <td>10/7/2003</td>\n",
              "      <td>76ers</td>\n",
              "      <td>79</td>\n",
              "      <td>0.329</td>\n",
              "      <td>0.897</td>\n",
              "      <td>0.143</td>\n",
              "      <td>7</td>\n",
              "      <td>44</td>\n",
              "      <td>0.0</td>\n",
              "      <td>0</td>\n",
              "      <td>0</td>\n",
              "      <td>0</td>\n",
              "      <td>33433</td>\n",
              "      <td>10/28/2003</td>\n",
              "      <td>76ers</td>\n",
              "      <td>89</td>\n",
              "      <td>0.440</td>\n",
              "      <td>0.533</td>\n",
              "      <td>0.350</td>\n",
              "      <td>25</td>\n",
              "      <td>39</td>\n",
              "      <td>0.0</td>\n",
              "      <td>0</td>\n",
              "      <td>1</td>\n",
              "      <td>1</td>\n",
              "      <td>10</td>\n",
              "      <td>2003</td>\n",
              "      <td>1610612755</td>\n",
              "    </tr>\n",
              "    <tr>\n",
              "      <th>2</th>\n",
              "      <td>33433</td>\n",
              "      <td>10/28/2003</td>\n",
              "      <td>76ers</td>\n",
              "      <td>89</td>\n",
              "      <td>0.440</td>\n",
              "      <td>0.533</td>\n",
              "      <td>0.350</td>\n",
              "      <td>25</td>\n",
              "      <td>39</td>\n",
              "      <td>0.0</td>\n",
              "      <td>0</td>\n",
              "      <td>1</td>\n",
              "      <td>1</td>\n",
              "      <td>33394</td>\n",
              "      <td>10/31/2003</td>\n",
              "      <td>76ers</td>\n",
              "      <td>89</td>\n",
              "      <td>0.418</td>\n",
              "      <td>0.767</td>\n",
              "      <td>0.000</td>\n",
              "      <td>16</td>\n",
              "      <td>40</td>\n",
              "      <td>0.0</td>\n",
              "      <td>0</td>\n",
              "      <td>0</td>\n",
              "      <td>0</td>\n",
              "      <td>10</td>\n",
              "      <td>2003</td>\n",
              "      <td>1610612755</td>\n",
              "    </tr>\n",
              "    <tr>\n",
              "      <th>3</th>\n",
              "      <td>33394</td>\n",
              "      <td>10/31/2003</td>\n",
              "      <td>76ers</td>\n",
              "      <td>89</td>\n",
              "      <td>0.418</td>\n",
              "      <td>0.767</td>\n",
              "      <td>0.000</td>\n",
              "      <td>16</td>\n",
              "      <td>40</td>\n",
              "      <td>0.0</td>\n",
              "      <td>0</td>\n",
              "      <td>0</td>\n",
              "      <td>0</td>\n",
              "      <td>33376</td>\n",
              "      <td>11/1/2003</td>\n",
              "      <td>76ers</td>\n",
              "      <td>90</td>\n",
              "      <td>0.468</td>\n",
              "      <td>0.545</td>\n",
              "      <td>0.526</td>\n",
              "      <td>22</td>\n",
              "      <td>25</td>\n",
              "      <td>0.0</td>\n",
              "      <td>0</td>\n",
              "      <td>0</td>\n",
              "      <td>0</td>\n",
              "      <td>10</td>\n",
              "      <td>2003</td>\n",
              "      <td>1610612755</td>\n",
              "    </tr>\n",
              "    <tr>\n",
              "      <th>4</th>\n",
              "      <td>33376</td>\n",
              "      <td>11/1/2003</td>\n",
              "      <td>76ers</td>\n",
              "      <td>90</td>\n",
              "      <td>0.468</td>\n",
              "      <td>0.545</td>\n",
              "      <td>0.526</td>\n",
              "      <td>22</td>\n",
              "      <td>25</td>\n",
              "      <td>0.0</td>\n",
              "      <td>0</td>\n",
              "      <td>0</td>\n",
              "      <td>0</td>\n",
              "      <td>33352</td>\n",
              "      <td>11/3/2003</td>\n",
              "      <td>76ers</td>\n",
              "      <td>94</td>\n",
              "      <td>0.485</td>\n",
              "      <td>0.771</td>\n",
              "      <td>0.250</td>\n",
              "      <td>19</td>\n",
              "      <td>29</td>\n",
              "      <td>0.0</td>\n",
              "      <td>0</td>\n",
              "      <td>0</td>\n",
              "      <td>1</td>\n",
              "      <td>11</td>\n",
              "      <td>2003</td>\n",
              "      <td>1610612755</td>\n",
              "    </tr>\n",
              "    <tr>\n",
              "      <th>5</th>\n",
              "      <td>33352</td>\n",
              "      <td>11/3/2003</td>\n",
              "      <td>76ers</td>\n",
              "      <td>94</td>\n",
              "      <td>0.485</td>\n",
              "      <td>0.771</td>\n",
              "      <td>0.250</td>\n",
              "      <td>19</td>\n",
              "      <td>29</td>\n",
              "      <td>0.0</td>\n",
              "      <td>0</td>\n",
              "      <td>0</td>\n",
              "      <td>1</td>\n",
              "      <td>33333</td>\n",
              "      <td>11/5/2003</td>\n",
              "      <td>76ers</td>\n",
              "      <td>99</td>\n",
              "      <td>0.407</td>\n",
              "      <td>0.833</td>\n",
              "      <td>0.235</td>\n",
              "      <td>25</td>\n",
              "      <td>44</td>\n",
              "      <td>0.0</td>\n",
              "      <td>0</td>\n",
              "      <td>1</td>\n",
              "      <td>0</td>\n",
              "      <td>11</td>\n",
              "      <td>2003</td>\n",
              "      <td>1610612755</td>\n",
              "    </tr>\n",
              "    <tr>\n",
              "      <th>...</th>\n",
              "      <td>...</td>\n",
              "      <td>...</td>\n",
              "      <td>...</td>\n",
              "      <td>...</td>\n",
              "      <td>...</td>\n",
              "      <td>...</td>\n",
              "      <td>...</td>\n",
              "      <td>...</td>\n",
              "      <td>...</td>\n",
              "      <td>...</td>\n",
              "      <td>...</td>\n",
              "      <td>...</td>\n",
              "      <td>...</td>\n",
              "      <td>...</td>\n",
              "      <td>...</td>\n",
              "      <td>...</td>\n",
              "      <td>...</td>\n",
              "      <td>...</td>\n",
              "      <td>...</td>\n",
              "      <td>...</td>\n",
              "      <td>...</td>\n",
              "      <td>...</td>\n",
              "      <td>...</td>\n",
              "      <td>...</td>\n",
              "      <td>...</td>\n",
              "      <td>...</td>\n",
              "      <td>...</td>\n",
              "      <td>...</td>\n",
              "      <td>...</td>\n",
              "    </tr>\n",
              "    <tr>\n",
              "      <th>1578</th>\n",
              "      <td>301</td>\n",
              "      <td>3/12/2021</td>\n",
              "      <td>Wizards</td>\n",
              "      <td>101</td>\n",
              "      <td>0.488</td>\n",
              "      <td>0.591</td>\n",
              "      <td>0.333</td>\n",
              "      <td>19</td>\n",
              "      <td>32</td>\n",
              "      <td>0.0</td>\n",
              "      <td>0</td>\n",
              "      <td>1</td>\n",
              "      <td>0</td>\n",
              "      <td>137</td>\n",
              "      <td>3/13/2021</td>\n",
              "      <td>Wizards</td>\n",
              "      <td>119</td>\n",
              "      <td>0.457</td>\n",
              "      <td>0.773</td>\n",
              "      <td>0.390</td>\n",
              "      <td>25</td>\n",
              "      <td>41</td>\n",
              "      <td>0.0</td>\n",
              "      <td>0</td>\n",
              "      <td>1</td>\n",
              "      <td>0</td>\n",
              "      <td>3</td>\n",
              "      <td>2021</td>\n",
              "      <td>1610612764</td>\n",
              "    </tr>\n",
              "    <tr>\n",
              "      <th>1579</th>\n",
              "      <td>137</td>\n",
              "      <td>3/13/2021</td>\n",
              "      <td>Wizards</td>\n",
              "      <td>119</td>\n",
              "      <td>0.457</td>\n",
              "      <td>0.773</td>\n",
              "      <td>0.390</td>\n",
              "      <td>25</td>\n",
              "      <td>41</td>\n",
              "      <td>0.0</td>\n",
              "      <td>0</td>\n",
              "      <td>1</td>\n",
              "      <td>0</td>\n",
              "      <td>99</td>\n",
              "      <td>3/15/2021</td>\n",
              "      <td>Wizards</td>\n",
              "      <td>122</td>\n",
              "      <td>0.506</td>\n",
              "      <td>0.750</td>\n",
              "      <td>0.421</td>\n",
              "      <td>34</td>\n",
              "      <td>33</td>\n",
              "      <td>0.0</td>\n",
              "      <td>0</td>\n",
              "      <td>1</td>\n",
              "      <td>0</td>\n",
              "      <td>3</td>\n",
              "      <td>2021</td>\n",
              "      <td>1610612764</td>\n",
              "    </tr>\n",
              "    <tr>\n",
              "      <th>1580</th>\n",
              "      <td>99</td>\n",
              "      <td>3/15/2021</td>\n",
              "      <td>Wizards</td>\n",
              "      <td>122</td>\n",
              "      <td>0.506</td>\n",
              "      <td>0.750</td>\n",
              "      <td>0.421</td>\n",
              "      <td>34</td>\n",
              "      <td>33</td>\n",
              "      <td>0.0</td>\n",
              "      <td>0</td>\n",
              "      <td>1</td>\n",
              "      <td>0</td>\n",
              "      <td>69</td>\n",
              "      <td>3/17/2021</td>\n",
              "      <td>Wizards</td>\n",
              "      <td>119</td>\n",
              "      <td>0.489</td>\n",
              "      <td>0.821</td>\n",
              "      <td>0.160</td>\n",
              "      <td>25</td>\n",
              "      <td>52</td>\n",
              "      <td>0.0</td>\n",
              "      <td>0</td>\n",
              "      <td>1</td>\n",
              "      <td>0</td>\n",
              "      <td>3</td>\n",
              "      <td>2021</td>\n",
              "      <td>1610612764</td>\n",
              "    </tr>\n",
              "    <tr>\n",
              "      <th>1581</th>\n",
              "      <td>69</td>\n",
              "      <td>3/17/2021</td>\n",
              "      <td>Wizards</td>\n",
              "      <td>119</td>\n",
              "      <td>0.489</td>\n",
              "      <td>0.821</td>\n",
              "      <td>0.160</td>\n",
              "      <td>25</td>\n",
              "      <td>52</td>\n",
              "      <td>0.0</td>\n",
              "      <td>0</td>\n",
              "      <td>1</td>\n",
              "      <td>0</td>\n",
              "      <td>51</td>\n",
              "      <td>3/18/2021</td>\n",
              "      <td>Wizards</td>\n",
              "      <td>131</td>\n",
              "      <td>0.547</td>\n",
              "      <td>0.789</td>\n",
              "      <td>0.412</td>\n",
              "      <td>23</td>\n",
              "      <td>43</td>\n",
              "      <td>0.0</td>\n",
              "      <td>0</td>\n",
              "      <td>1</td>\n",
              "      <td>1</td>\n",
              "      <td>3</td>\n",
              "      <td>2021</td>\n",
              "      <td>1610612764</td>\n",
              "    </tr>\n",
              "    <tr>\n",
              "      <th>1582</th>\n",
              "      <td>51</td>\n",
              "      <td>3/18/2021</td>\n",
              "      <td>Wizards</td>\n",
              "      <td>131</td>\n",
              "      <td>0.547</td>\n",
              "      <td>0.789</td>\n",
              "      <td>0.412</td>\n",
              "      <td>23</td>\n",
              "      <td>43</td>\n",
              "      <td>0.0</td>\n",
              "      <td>0</td>\n",
              "      <td>1</td>\n",
              "      <td>1</td>\n",
              "      <td>10</td>\n",
              "      <td>3/21/2021</td>\n",
              "      <td>Wizards</td>\n",
              "      <td>106</td>\n",
              "      <td>0.532</td>\n",
              "      <td>0.789</td>\n",
              "      <td>0.333</td>\n",
              "      <td>24</td>\n",
              "      <td>43</td>\n",
              "      <td>0.0</td>\n",
              "      <td>0</td>\n",
              "      <td>0</td>\n",
              "      <td>0</td>\n",
              "      <td>3</td>\n",
              "      <td>2021</td>\n",
              "      <td>1610612764</td>\n",
              "    </tr>\n",
              "  </tbody>\n",
              "</table>\n",
              "<p>48187 rows × 29 columns</p>\n",
              "</div>"
            ],
            "text/plain": [
              "     Unnamed: 0        Date     Team Points  ...  prev_Win  Month  Year     Team_id\n",
              "1         33460   10/7/2003    76ers     79  ...         1     10  2003  1610612755\n",
              "2         33433  10/28/2003    76ers     89  ...         0     10  2003  1610612755\n",
              "3         33394  10/31/2003    76ers     89  ...         0     10  2003  1610612755\n",
              "4         33376   11/1/2003    76ers     90  ...         1     11  2003  1610612755\n",
              "5         33352   11/3/2003    76ers     94  ...         0     11  2003  1610612755\n",
              "...         ...         ...      ...    ...  ...       ...    ...   ...         ...\n",
              "1578        301   3/12/2021  Wizards    101  ...         0      3  2021  1610612764\n",
              "1579        137   3/13/2021  Wizards    119  ...         0      3  2021  1610612764\n",
              "1580         99   3/15/2021  Wizards    122  ...         0      3  2021  1610612764\n",
              "1581         69   3/17/2021  Wizards    119  ...         1      3  2021  1610612764\n",
              "1582         51   3/18/2021  Wizards    131  ...         0      3  2021  1610612764\n",
              "\n",
              "[48187 rows x 29 columns]"
            ]
          },
          "metadata": {
            "tags": []
          },
          "execution_count": 9
        }
      ]
    },
    {
      "cell_type": "markdown",
      "metadata": {
        "id": "4kUAZCHtdaAt"
      },
      "source": [
        "<h2>Make X and y columns</h2>"
      ]
    },
    {
      "cell_type": "code",
      "metadata": {
        "colab": {
          "base_uri": "https://localhost:8080/"
        },
        "id": "5DCqxTTEdcuK",
        "outputId": "20cfeba1-8a91-4611-f63f-f3d6f353f66e"
      },
      "source": [
        "#Making a list of all predictors and response variable. The predictors include the month, year, \n",
        "#team ID, whether it is a home game, if there was previous tweet and the postivity of the tweet.\n",
        "#The predictors also contains values from the previous game such as that games point, field goal percentage \n",
        "#field throw percentage, 3 point field goal percentage, assists, rebound and outcome.\n",
        "#The response variable is whether the game will be won.\n",
        "X = combined_df[[\"Month\", \"Year\", \"Team_id\", \"prev_Points\", \"prev_FG_PCT\",\n",
        "                 \"prev_FT_PCT\", \"prev_FG3_PCT\", \"prev_Assists\", \n",
        "                 \"prev_Rebounds\",  \"Home\", \n",
        "                 \"Positivity\", \"Tweet\", \"prev_Win\"]].to_numpy()\n",
        "y = combined_df[\"Win\"].to_numpy()\n",
        "\n",
        "print(X, X.shape)\n",
        "print(y.shape, y)"
      ],
      "execution_count": null,
      "outputs": [
        {
          "output_type": "stream",
          "text": [
            "[[10 2003 1610612755 ... 0.0 0 1]\n",
            " [10 2003 1610612755 ... 0.0 0 0]\n",
            " [10 2003 1610612755 ... 0.0 0 0]\n",
            " ...\n",
            " [3 2021 1610612764 ... 0.0 0 0]\n",
            " [3 2021 1610612764 ... 0.0 0 1]\n",
            " [3 2021 1610612764 ... 0.0 0 0]] (48187, 13)\n",
            "(48187,) [0 1 0 ... 0 0 1]\n"
          ],
          "name": "stdout"
        }
      ]
    },
    {
      "cell_type": "code",
      "metadata": {
        "id": "iOBe4s5H-9FS"
      },
      "source": [
        "class Preprocess: \n",
        "  def __init__(self, oneHot, minMax):\n",
        "    self.OneHotEncoder = oneHot\n",
        "    self.MinMaxScaler = minMax\n",
        "\n",
        "  def fit(self, data):\n",
        "    self.OneHotEncoder.fit(data[::, 2].reshape(len(data), 1))\n",
        "    self.MinMaxScaler.fit(np.concatenate([data[::, 0:3], data[::, 3:9]], axis = 1))\n",
        "\n",
        "  def transform(self, data):\n",
        "    oneHoted = self.OneHotEncoder.transform(\n",
        "        data[::, 2].reshape(len(data), 1))\n",
        "    minMaxed = self.MinMaxScaler.transform(\n",
        "        np.concatenate([data[::, 0:3], data[::, 3:9]], axis = 1)\n",
        "    )\n",
        "    return np.concatenate([minMaxed, oneHoted, data[::, 9:]], axis = 1)"
      ],
      "execution_count": null,
      "outputs": []
    },
    {
      "cell_type": "code",
      "metadata": {
        "colab": {
          "base_uri": "https://localhost:8080/"
        },
        "id": "P6-aNtkY8cEp",
        "outputId": "90750630-99cd-44c9-d87e-33dae4dc22a1"
      },
      "source": [
        "preprocess = Preprocess(OneHotEncoder(sparse=False), MinMaxScaler())\n",
        "preprocess.fit(X)\n",
        "X_transformed = preprocess.transform(X)\n",
        "print(X_transformed.shape)"
      ],
      "execution_count": null,
      "outputs": [
        {
          "output_type": "stream",
          "text": [
            "(48187, 43)\n"
          ],
          "name": "stdout"
        }
      ]
    },
    {
      "cell_type": "code",
      "metadata": {
        "colab": {
          "base_uri": "https://localhost:8080/"
        },
        "id": "ZXSvBIyPYahU",
        "outputId": "0d0c2f10-ee78-4585-a77b-6d3085f04286"
      },
      "source": [
        "X_transformed[1]"
      ],
      "execution_count": null,
      "outputs": [
        {
          "output_type": "execute_result",
          "data": {
            "text/plain": [
              "array([0.8181818181818182, 0.0, 0.6206896528601646, 0.41481481481481486,\n",
              "       0.3954545454545454, 0.7281213535589265, 0.0, 0.27906976744186046,\n",
              "       0.3787878787878788, 0.0, 0.0, 0.0, 0.0, 0.0, 0.0, 0.0, 0.0, 0.0,\n",
              "       0.0, 0.0, 0.0, 0.0, 0.0, 0.0, 0.0, 0.0, 0.0, 1.0, 0.0, 0.0, 0.0,\n",
              "       0.0, 0.0, 0.0, 0.0, 0.0, 0.0, 0.0, 0.0, 1, 0.0, 0, 0], dtype=object)"
            ]
          },
          "metadata": {
            "tags": []
          },
          "execution_count": 14
        }
      ]
    },
    {
      "cell_type": "code",
      "metadata": {
        "id": "ieMoN3H3VUgQ"
      },
      "source": [
        "X_transformed=np.asarray(X_transformed).astype('float32')\n",
        "y=np.asarray(y).astype('float32')"
      ],
      "execution_count": null,
      "outputs": []
    },
    {
      "cell_type": "code",
      "metadata": {
        "colab": {
          "base_uri": "https://localhost:8080/"
        },
        "id": "l7HVj_yvV3A-",
        "outputId": "6b36afdf-3a17-4dff-dfac-2f431198c256"
      },
      "source": [
        "X_transformed[1]"
      ],
      "execution_count": null,
      "outputs": [
        {
          "output_type": "execute_result",
          "data": {
            "text/plain": [
              "array([0.8181818 , 0.        , 0.62068963, 0.4148148 , 0.39545456,\n",
              "       0.72812134, 0.        , 0.27906978, 0.37878788, 0.        ,\n",
              "       0.        , 0.        , 0.        , 0.        , 0.        ,\n",
              "       0.        , 0.        , 0.        , 0.        , 0.        ,\n",
              "       0.        , 0.        , 0.        , 0.        , 0.        ,\n",
              "       0.        , 0.        , 1.        , 0.        , 0.        ,\n",
              "       0.        , 0.        , 0.        , 0.        , 0.        ,\n",
              "       0.        , 0.        , 0.        , 0.        , 1.        ,\n",
              "       0.        , 0.        , 0.        ], dtype=float32)"
            ]
          },
          "metadata": {
            "tags": []
          },
          "execution_count": 16
        }
      ]
    },
    {
      "cell_type": "markdown",
      "metadata": {
        "id": "wc5CaH5veyPI"
      },
      "source": [
        "<h2>Nerual Network</h2>"
      ]
    },
    {
      "cell_type": "code",
      "metadata": {
        "id": "964IfICA90ih"
      },
      "source": [
        "from sklearn.model_selection import train_test_split\n",
        "x_train, x_test, y_train, y_test = train_test_split(X_transformed,y,test_size=0.2)"
      ],
      "execution_count": null,
      "outputs": []
    },
    {
      "cell_type": "code",
      "metadata": {
        "id": "5RJoOXPG90XP"
      },
      "source": [
        "import tensorflow as TF\n",
        "#Creating Layers\n",
        "kerasmodels=TF.keras.Sequential()\n",
        "kerasmodels.add(TF.keras.layers.Dense(43))\n",
        "kerasmodels.add(TF.keras.layers.Dropout(0.2))\n",
        "kerasmodels.add(TF.keras.layers.Dense(86,activation='tanh'))\n",
        "kerasmodels.add(TF.keras.layers.Dense(43,activation='tanh'))\n",
        "kerasmodels.add(TF.keras.layers.Dense(22,activation='tanh'))\n",
        "kerasmodels.add(TF.keras.layers.Dense(1,activation='sigmoid'))"
      ],
      "execution_count": null,
      "outputs": []
    },
    {
      "cell_type": "code",
      "metadata": {
        "id": "pVf6wLilCLuv"
      },
      "source": [
        "#Compling data\n",
        "kerasmodels.compile(optimizer='rmsprop',\n",
        "              loss='binary_crossentropy',\n",
        "              metrics=['accuracy'])"
      ],
      "execution_count": null,
      "outputs": []
    },
    {
      "cell_type": "code",
      "metadata": {
        "colab": {
          "base_uri": "https://localhost:8080/"
        },
        "id": "jLQFQcefCbwc",
        "outputId": "aeed49de-27ca-4b39-9fe4-de413cbd5176"
      },
      "source": [
        "#Training and testing data\n",
        "ModelHis=kerasmodels.fit(x_train,y_train,epochs=90)"
      ],
      "execution_count": null,
      "outputs": [
        {
          "output_type": "stream",
          "text": [
            "Epoch 1/90\n",
            "1205/1205 [==============================] - 2s 1ms/step - loss: 0.6763 - accuracy: 0.5820\n",
            "Epoch 2/90\n",
            "1205/1205 [==============================] - 1s 1ms/step - loss: 0.6686 - accuracy: 0.5977\n",
            "Epoch 3/90\n",
            "1205/1205 [==============================] - 1s 1ms/step - loss: 0.6636 - accuracy: 0.6012\n",
            "Epoch 4/90\n",
            "1205/1205 [==============================] - 1s 1ms/step - loss: 0.6656 - accuracy: 0.5974\n",
            "Epoch 5/90\n",
            "1205/1205 [==============================] - 1s 1ms/step - loss: 0.6607 - accuracy: 0.6031\n",
            "Epoch 6/90\n",
            "1205/1205 [==============================] - 1s 1ms/step - loss: 0.6627 - accuracy: 0.6037\n",
            "Epoch 7/90\n",
            "1205/1205 [==============================] - 1s 1ms/step - loss: 0.6620 - accuracy: 0.6045\n",
            "Epoch 8/90\n",
            "1205/1205 [==============================] - 1s 1ms/step - loss: 0.6607 - accuracy: 0.6048\n",
            "Epoch 9/90\n",
            "1205/1205 [==============================] - 1s 1ms/step - loss: 0.6572 - accuracy: 0.6130\n",
            "Epoch 10/90\n",
            "1205/1205 [==============================] - 1s 1ms/step - loss: 0.6563 - accuracy: 0.6139\n",
            "Epoch 11/90\n",
            "1205/1205 [==============================] - 1s 1ms/step - loss: 0.6575 - accuracy: 0.6081\n",
            "Epoch 12/90\n",
            "1205/1205 [==============================] - 1s 1ms/step - loss: 0.6572 - accuracy: 0.6114\n",
            "Epoch 13/90\n",
            "1205/1205 [==============================] - 1s 1ms/step - loss: 0.6548 - accuracy: 0.6156\n",
            "Epoch 14/90\n",
            "1205/1205 [==============================] - 1s 1ms/step - loss: 0.6559 - accuracy: 0.6128\n",
            "Epoch 15/90\n",
            "1205/1205 [==============================] - 1s 1ms/step - loss: 0.6569 - accuracy: 0.6090\n",
            "Epoch 16/90\n",
            "1205/1205 [==============================] - 1s 1ms/step - loss: 0.6543 - accuracy: 0.6173\n",
            "Epoch 17/90\n",
            "1205/1205 [==============================] - 1s 1ms/step - loss: 0.6530 - accuracy: 0.6189\n",
            "Epoch 18/90\n",
            "1205/1205 [==============================] - 1s 1ms/step - loss: 0.6540 - accuracy: 0.6135\n",
            "Epoch 19/90\n",
            "1205/1205 [==============================] - 1s 1ms/step - loss: 0.6530 - accuracy: 0.6142\n",
            "Epoch 20/90\n",
            "1205/1205 [==============================] - 1s 1ms/step - loss: 0.6527 - accuracy: 0.6174\n",
            "Epoch 21/90\n",
            "1205/1205 [==============================] - 1s 1ms/step - loss: 0.6513 - accuracy: 0.6194\n",
            "Epoch 22/90\n",
            "1205/1205 [==============================] - 1s 1ms/step - loss: 0.6502 - accuracy: 0.6219\n",
            "Epoch 23/90\n",
            "1205/1205 [==============================] - 1s 1ms/step - loss: 0.6504 - accuracy: 0.6202\n",
            "Epoch 24/90\n",
            "1205/1205 [==============================] - 1s 1ms/step - loss: 0.6519 - accuracy: 0.6176\n",
            "Epoch 25/90\n",
            "1205/1205 [==============================] - 1s 1ms/step - loss: 0.6522 - accuracy: 0.6168\n",
            "Epoch 26/90\n",
            "1205/1205 [==============================] - 1s 1ms/step - loss: 0.6507 - accuracy: 0.6177\n",
            "Epoch 27/90\n",
            "1205/1205 [==============================] - 1s 1ms/step - loss: 0.6530 - accuracy: 0.6098\n",
            "Epoch 28/90\n",
            "1205/1205 [==============================] - 1s 1ms/step - loss: 0.6503 - accuracy: 0.6223\n",
            "Epoch 29/90\n",
            "1205/1205 [==============================] - 1s 1ms/step - loss: 0.6485 - accuracy: 0.6237\n",
            "Epoch 30/90\n",
            "1205/1205 [==============================] - 1s 1ms/step - loss: 0.6467 - accuracy: 0.6208\n",
            "Epoch 31/90\n",
            "1205/1205 [==============================] - 1s 1ms/step - loss: 0.6503 - accuracy: 0.6186\n",
            "Epoch 32/90\n",
            "1205/1205 [==============================] - 1s 1ms/step - loss: 0.6474 - accuracy: 0.6273\n",
            "Epoch 33/90\n",
            "1205/1205 [==============================] - 1s 1ms/step - loss: 0.6482 - accuracy: 0.6236\n",
            "Epoch 34/90\n",
            "1205/1205 [==============================] - 1s 1ms/step - loss: 0.6505 - accuracy: 0.6160\n",
            "Epoch 35/90\n",
            "1205/1205 [==============================] - 1s 1ms/step - loss: 0.6473 - accuracy: 0.6241\n",
            "Epoch 36/90\n",
            "1205/1205 [==============================] - 1s 1ms/step - loss: 0.6497 - accuracy: 0.6233\n",
            "Epoch 37/90\n",
            "1205/1205 [==============================] - 1s 1ms/step - loss: 0.6476 - accuracy: 0.6220\n",
            "Epoch 38/90\n",
            "1205/1205 [==============================] - 1s 1ms/step - loss: 0.6474 - accuracy: 0.6260\n",
            "Epoch 39/90\n",
            "1205/1205 [==============================] - 1s 1ms/step - loss: 0.6473 - accuracy: 0.6211\n",
            "Epoch 40/90\n",
            "1205/1205 [==============================] - 1s 1ms/step - loss: 0.6489 - accuracy: 0.6227\n",
            "Epoch 41/90\n",
            "1205/1205 [==============================] - 1s 1ms/step - loss: 0.6459 - accuracy: 0.6231\n",
            "Epoch 42/90\n",
            "1205/1205 [==============================] - 1s 1ms/step - loss: 0.6443 - accuracy: 0.6245\n",
            "Epoch 43/90\n",
            "1205/1205 [==============================] - 1s 1ms/step - loss: 0.6478 - accuracy: 0.6248\n",
            "Epoch 44/90\n",
            "1205/1205 [==============================] - 1s 1ms/step - loss: 0.6483 - accuracy: 0.6222\n",
            "Epoch 45/90\n",
            "1205/1205 [==============================] - 1s 991us/step - loss: 0.6428 - accuracy: 0.6289\n",
            "Epoch 46/90\n",
            "1205/1205 [==============================] - 1s 1ms/step - loss: 0.6442 - accuracy: 0.6307\n",
            "Epoch 47/90\n",
            "1205/1205 [==============================] - 1s 1ms/step - loss: 0.6478 - accuracy: 0.6242\n",
            "Epoch 48/90\n",
            "1205/1205 [==============================] - 1s 1ms/step - loss: 0.6460 - accuracy: 0.6269\n",
            "Epoch 49/90\n",
            "1205/1205 [==============================] - 1s 1ms/step - loss: 0.6467 - accuracy: 0.6258\n",
            "Epoch 50/90\n",
            "1205/1205 [==============================] - 1s 1ms/step - loss: 0.6452 - accuracy: 0.6279\n",
            "Epoch 51/90\n",
            "1205/1205 [==============================] - 1s 1ms/step - loss: 0.6458 - accuracy: 0.6267\n",
            "Epoch 52/90\n",
            "1205/1205 [==============================] - 1s 1ms/step - loss: 0.6462 - accuracy: 0.6276\n",
            "Epoch 53/90\n",
            "1205/1205 [==============================] - 1s 1ms/step - loss: 0.6474 - accuracy: 0.6238\n",
            "Epoch 54/90\n",
            "1205/1205 [==============================] - 1s 1ms/step - loss: 0.6449 - accuracy: 0.6271\n",
            "Epoch 55/90\n",
            "1205/1205 [==============================] - 1s 1ms/step - loss: 0.6438 - accuracy: 0.6295\n",
            "Epoch 56/90\n",
            "1205/1205 [==============================] - 1s 1ms/step - loss: 0.6457 - accuracy: 0.6242\n",
            "Epoch 57/90\n",
            "1205/1205 [==============================] - 1s 1ms/step - loss: 0.6427 - accuracy: 0.6292\n",
            "Epoch 58/90\n",
            "1205/1205 [==============================] - 1s 1ms/step - loss: 0.6457 - accuracy: 0.6262\n",
            "Epoch 59/90\n",
            "1205/1205 [==============================] - 1s 1ms/step - loss: 0.6442 - accuracy: 0.6261\n",
            "Epoch 60/90\n",
            "1205/1205 [==============================] - 1s 1ms/step - loss: 0.6422 - accuracy: 0.6280\n",
            "Epoch 61/90\n",
            "1205/1205 [==============================] - 1s 1ms/step - loss: 0.6439 - accuracy: 0.6297\n",
            "Epoch 62/90\n",
            "1205/1205 [==============================] - 1s 1ms/step - loss: 0.6424 - accuracy: 0.6330\n",
            "Epoch 63/90\n",
            "1205/1205 [==============================] - 1s 1ms/step - loss: 0.6447 - accuracy: 0.6248\n",
            "Epoch 64/90\n",
            "1205/1205 [==============================] - 1s 1ms/step - loss: 0.6453 - accuracy: 0.6251\n",
            "Epoch 65/90\n",
            "1205/1205 [==============================] - 1s 1ms/step - loss: 0.6439 - accuracy: 0.6273\n",
            "Epoch 66/90\n",
            "1205/1205 [==============================] - 1s 1ms/step - loss: 0.6482 - accuracy: 0.6213\n",
            "Epoch 67/90\n",
            "1205/1205 [==============================] - 1s 1ms/step - loss: 0.6436 - accuracy: 0.6284\n",
            "Epoch 68/90\n",
            "1205/1205 [==============================] - 1s 1ms/step - loss: 0.6437 - accuracy: 0.6272\n",
            "Epoch 69/90\n",
            "1205/1205 [==============================] - 1s 1ms/step - loss: 0.6414 - accuracy: 0.6315\n",
            "Epoch 70/90\n",
            "1205/1205 [==============================] - 1s 1ms/step - loss: 0.6414 - accuracy: 0.6321\n",
            "Epoch 71/90\n",
            "1205/1205 [==============================] - 1s 1ms/step - loss: 0.6423 - accuracy: 0.6283\n",
            "Epoch 72/90\n",
            "1205/1205 [==============================] - 1s 1ms/step - loss: 0.6420 - accuracy: 0.6276\n",
            "Epoch 73/90\n",
            "1205/1205 [==============================] - 1s 1ms/step - loss: 0.6429 - accuracy: 0.6274\n",
            "Epoch 74/90\n",
            "1205/1205 [==============================] - 1s 1ms/step - loss: 0.6424 - accuracy: 0.6309\n",
            "Epoch 75/90\n",
            "1205/1205 [==============================] - 1s 1ms/step - loss: 0.6430 - accuracy: 0.6300\n",
            "Epoch 76/90\n",
            "1205/1205 [==============================] - 1s 1ms/step - loss: 0.6431 - accuracy: 0.6274\n",
            "Epoch 77/90\n",
            "1205/1205 [==============================] - 1s 1ms/step - loss: 0.6418 - accuracy: 0.6314\n",
            "Epoch 78/90\n",
            "1205/1205 [==============================] - 1s 1ms/step - loss: 0.6443 - accuracy: 0.6303\n",
            "Epoch 79/90\n",
            "1205/1205 [==============================] - 1s 1ms/step - loss: 0.6430 - accuracy: 0.6306\n",
            "Epoch 80/90\n",
            "1205/1205 [==============================] - 1s 1ms/step - loss: 0.6415 - accuracy: 0.6303\n",
            "Epoch 81/90\n",
            "1205/1205 [==============================] - 1s 1ms/step - loss: 0.6420 - accuracy: 0.6285\n",
            "Epoch 82/90\n",
            "1205/1205 [==============================] - 1s 1ms/step - loss: 0.6413 - accuracy: 0.6336\n",
            "Epoch 83/90\n",
            "1205/1205 [==============================] - 1s 1ms/step - loss: 0.6394 - accuracy: 0.6362\n",
            "Epoch 84/90\n",
            "1205/1205 [==============================] - 1s 1ms/step - loss: 0.6391 - accuracy: 0.6355\n",
            "Epoch 85/90\n",
            "1205/1205 [==============================] - 1s 1ms/step - loss: 0.6388 - accuracy: 0.6339\n",
            "Epoch 86/90\n",
            "1205/1205 [==============================] - 1s 1ms/step - loss: 0.6408 - accuracy: 0.6308\n",
            "Epoch 87/90\n",
            "1205/1205 [==============================] - 1s 1ms/step - loss: 0.6429 - accuracy: 0.6298\n",
            "Epoch 88/90\n",
            "1205/1205 [==============================] - 1s 1ms/step - loss: 0.6392 - accuracy: 0.6313\n",
            "Epoch 89/90\n",
            "1205/1205 [==============================] - 1s 1ms/step - loss: 0.6416 - accuracy: 0.6325\n",
            "Epoch 90/90\n",
            "1205/1205 [==============================] - 1s 1ms/step - loss: 0.6379 - accuracy: 0.6374\n"
          ],
          "name": "stdout"
        }
      ]
    },
    {
      "cell_type": "code",
      "metadata": {
        "colab": {
          "base_uri": "https://localhost:8080/"
        },
        "id": "YZpDKyO3kcfO",
        "outputId": "188cdcef-c7e0-49a2-9a38-7a9e48edc46a"
      },
      "source": [
        "print(ModelHis.history.keys())"
      ],
      "execution_count": null,
      "outputs": [
        {
          "output_type": "stream",
          "text": [
            "dict_keys(['loss', 'accuracy'])\n"
          ],
          "name": "stdout"
        }
      ]
    },
    {
      "cell_type": "code",
      "metadata": {
        "colab": {
          "base_uri": "https://localhost:8080/",
          "height": 573
        },
        "id": "VKIiz3iTfBpE",
        "outputId": "ba68256a-76f6-4c5e-a84f-01e4eac128cc"
      },
      "source": [
        "import matplotlib.pyplot as mpl\n",
        "mpl.plot(ModelHis.history['accuracy'])\n",
        "mpl.ylabel('accuracy')\n",
        "mpl.xlabel('epoch')\n",
        "mpl.title('Model accuracy')\n",
        "mpl.show()\n",
        "mpl.plot(ModelHis.history['loss'])\n",
        "mpl.ylabel('loss')\n",
        "mpl.xlabel('epoch')\n",
        "mpl.title('Model loss')\n",
        "mpl.show()"
      ],
      "execution_count": null,
      "outputs": [
        {
          "output_type": "display_data",
          "data": {
            "image/png": "[encoded data removed]",
            "text/plain": [
              "<Figure size 432x288 with 1 Axes>"
            ]
          },
          "metadata": {
            "tags": [],
            "needs_background": "light"
          }
        },
        {
          "output_type": "display_data",
          "data": {
            "image/png": "[encoded data removed]",
            "text/plain": [
              "<Figure size 432x288 with 1 Axes>"
            ]
          },
          "metadata": {
            "tags": [],
            "needs_background": "light"
          }
        }
      ]
    },
    {
      "cell_type": "code",
      "metadata": {
        "colab": {
          "base_uri": "https://localhost:8080/"
        },
        "id": "CGOeAEMrfSXC",
        "outputId": "851ee33b-b172-4f2f-a605-3d8e5abab4a2"
      },
      "source": [
        "values, accuracy=kerasmodels.evaluate(x_test,y_test)\n",
        "print(values, accuracy)"
      ],
      "execution_count": null,
      "outputs": [
        {
          "output_type": "stream",
          "text": [
            "302/302 [==============================] - 0s 749us/step - loss: 0.6590 - accuracy: 0.6086\n",
            "0.658993124961853 0.608632504940033\n"
          ],
          "name": "stdout"
        }
      ]
    },
    {
      "cell_type": "code",
      "metadata": {
        "colab": {
          "base_uri": "https://localhost:8080/"
        },
        "id": "hEdIpsF9fUMH",
        "outputId": "89b6a140-6633-46e3-9c38-7fdff19b12f5"
      },
      "source": [
        "prob_preds = kerasmodels.predict(x_test)\n",
        "prob_preds # Checking if the probablities are different"
      ],
      "execution_count": null,
      "outputs": [
        {
          "output_type": "execute_result",
          "data": {
            "text/plain": [
              "array([[0.38204846],\n",
              "       [0.410938  ],\n",
              "       [0.68559015],\n",
              "       ...,\n",
              "       [0.38766968],\n",
              "       [0.40923584],\n",
              "       [0.48738104]], dtype=float32)"
            ]
          },
          "metadata": {
            "tags": []
          },
          "execution_count": 222
        }
      ]
    },
    {
      "cell_type": "code",
      "metadata": {
        "colab": {
          "base_uri": "https://localhost:8080/"
        },
        "id": "qZ0p2lXpfXUN",
        "outputId": "00a5cc95-c5b2-4ac3-bd90-fffc45770f3f"
      },
      "source": [
        "print(np.sum(y_train))\n",
        "print(np.sum(x_train))\n",
        "print(np.sum(y_test))\n",
        "print(np.sum(x_test))"
      ],
      "execution_count": null,
      "outputs": [
        {
          "output_type": "stream",
          "text": [
            "19322.0\n",
            "246324.58\n",
            "4778.0\n",
            "61546.207\n"
          ],
          "name": "stdout"
        }
      ]
    },
    {
      "cell_type": "code",
      "metadata": {
        "id": "k2-owouTfcFl"
      },
      "source": [
        "kerasmodels.save(\"nerualnet.h5\")"
      ],
      "execution_count": null,
      "outputs": []
    },
    {
      "cell_type": "markdown",
      "metadata": {
        "id": "ZUA4rN-fenWU"
      },
      "source": [
        "<h2>Save preprocessor</h2>\n"
      ]
    },
    {
      "cell_type": "code",
      "metadata": {
        "id": "GBOo1pW1oQKL"
      },
      "source": [
        "import pickle \n",
        "filehandler = open(\"OneHotEncoder.pkl\", 'wb') \n",
        "pickle.dump(preprocess.OneHotEncoder, filehandler)\n",
        "filehandler.close()\n",
        "\n",
        "filehandler = open(\"MinMaxScaler.pkl\", 'wb') \n",
        "pickle.dump(preprocess.MinMaxScaler, filehandler)\n",
        "filehandler.close()\n",
        "\n"
      ],
      "execution_count": null,
      "outputs": []
    },
    {
      "cell_type": "code",
      "metadata": {
        "id": "X5q8YgZgfRSI"
      },
      "source": [
        ""
      ],
      "execution_count": null,
      "outputs": []
    }
  ]
}