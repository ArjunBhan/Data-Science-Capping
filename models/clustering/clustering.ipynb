{
  "nbformat": 4,
  "nbformat_minor": 0,
  "metadata": {
    "colab": {
      "name": "NBAKMeans.ipynb",
      "provenance": [],
      "collapsed_sections": []
    },
    "kernelspec": {
      "name": "python3",
      "display_name": "Python 3"
    },
    "language_info": {
      "name": "python"
    }
  },
  "cells": [
    {
      "cell_type": "code",
      "metadata": {
        "id": "lrinsU5yRW7K"
      },
      "source": [
        "#NBA Player stats 2019\n",
        "#show which players are most similar "
      ],
      "execution_count": null,
      "outputs": []
    },
    {
      "cell_type": "code",
      "metadata": {
        "id": "jiFLxPTCS-3B"
      },
      "source": [
        "import pandas as pd\n",
        "import seaborn as sns\n",
        "import matplotlib.pyplot as plt\n",
        "from sklearn.cluster import KMeans"
      ],
      "execution_count": null,
      "outputs": []
    },
    {
      "cell_type": "markdown",
      "metadata": {
        "id": "79u65FMURxGa"
      },
      "source": [
        "# Connecting to the Database"
      ]
    },
    {
      "cell_type": "code",
      "metadata": {
        "id": "iY5RIAEQ73eO"
      },
      "source": [
        "import psycopg2\n",
        "\n",
        "db_login = {\n",
        "    'database': 'basketball',\n",
        "    'user': 'globetrotter',\n",
        "    'password': 'alpacaalpaca',\n",
        "    'host': 'blaskey.dev',\n",
        "    'port': 5432\n",
        "}\n",
        "conn = psycopg2.connect(**db_login)\n",
        "cur = conn.cursor()"
      ],
      "execution_count": null,
      "outputs": []
    },
    {
      "cell_type": "markdown",
      "metadata": {
        "id": "U94s2VRdR6rq"
      },
      "source": [
        "# Creates a list of the players name and stats from 2019"
      ]
    },
    {
      "cell_type": "code",
      "metadata": {
        "colab": {
          "base_uri": "https://localhost:8080/"
        },
        "id": "s9sSG1LVC050",
        "outputId": "3e1ba84f-8f1b-403e-f0f9-1a145e560165"
      },
      "source": [
        "conn.rollback()\n",
        "\n",
        "players = []\n",
        "cur.execute(\"SELECT DISTINCT player_id, player_name FROM player WHERE season = 2019 LIMIT 1000\")\n",
        "for i in cur.fetchall():\n",
        "  players.append([*i])\n",
        "print(players[:10])\n",
        "\n",
        "for i, player_id in enumerate(players):\n",
        "  cur.execute(\"SELECT AVG(points), AVG(assists), AVG(steals), AVG(blocked_shots), AVG(personal_fouls), AVG(seconds_played), AVG(field_goals_attempted), AVG(field_goals_made), AVG(three_pointers_attempted), AVG(three_pointers_made), AVG(free_throws_attempted), AVG(free_throws_made), AVG(offensive_rebounds), AVG(defensive_rebounds) FROM player_game_detail \" + \n",
        "              \"INNER JOIN game ON player_game_detail.game_id = game.game_id \" + \n",
        "              \"WHERE player_id = %s AND season = 2019\",\n",
        "              [player_id[0]])\n",
        "  players[i].extend(cur.fetchone())\n",
        "\n",
        "print(players[:10])"
      ],
      "execution_count": null,
      "outputs": [
        {
          "output_type": "stream",
          "text": [
            "[[1629026, 'kenrich williams'], [1628968, 'brian bowen ii'], [1626259, 'malcolm miller'], [1629635, 'sekou doumbouya'], [202710, 'jimmy butler'], [1629028, 'deandre ayton'], [203952, 'andrew wiggins'], [1629625, 'justin wright-foreman'], [201571, 'd.j. augustin'], [203925, 'joe harris']]\n",
            "[[1629026, 'kenrich williams', Decimal('3.3404255319148936'), Decimal('1.4893617021276596'), Decimal('0.72340425531914893617'), Decimal('0.51063829787234042553'), Decimal('2.4255319148936170'), Decimal('1003.6610169491525424'), Decimal('3.5744680851063830'), Decimal('1.2765957446808511'), Decimal('2.2553191489361702'), Decimal('0.59574468085106382979'), Decimal('0.55319148936170212766'), Decimal('0.19148936170212765957'), Decimal('1.2978723404255319'), Decimal('3.5319148936170213')], [1628968, 'brian bowen ii', Decimal('0.80000000000000000000'), Decimal('0.10000000000000000000'), Decimal('0E-20'), Decimal('0.20000000000000000000'), Decimal('0.50000000000000000000'), Decimal('153.7894736842105263'), Decimal('1.4000000000000000'), Decimal('0.40000000000000000000'), Decimal('0.20000000000000000000'), Decimal('0E-20'), Decimal('0E-20'), Decimal('0E-20'), Decimal('0.30000000000000000000'), Decimal('0.60000000000000000000')], [1626259, 'malcolm miller', Decimal('1.8055555555555556'), Decimal('0.30555555555555555556'), Decimal('0.22222222222222222222'), Decimal('0.05555555555555555556'), Decimal('0.83333333333333333333'), Decimal('186.4324324324324324'), Decimal('1.4166666666666667'), Decimal('0.61111111111111111111'), Decimal('1.0833333333333333'), Decimal('0.41666666666666666667'), Decimal('0.36111111111111111111'), Decimal('0.16666666666666666667'), Decimal('0.05555555555555555556'), Decimal('0.44444444444444444444')], [1629635, 'sekou doumbouya', Decimal('5.9047619047619048'), Decimal('0.47619047619047619048'), Decimal('0.47619047619047619048'), Decimal('0.19047619047619047619'), Decimal('1.9523809523809524'), Decimal('1009.6304347826086957'), Decimal('5.8333333333333333'), Decimal('2.2380952380952381'), Decimal('2.4523809523809524'), Decimal('0.69047619047619047619'), Decimal('1.1428571428571429'), Decimal('0.73809523809523809524'), Decimal('0.50000000000000000000'), Decimal('2.4047619047619048')], [202710, 'jimmy butler', Decimal('20.1309523809523810'), Decimal('5.9642857142857143'), Decimal('1.7500000000000000'), Decimal('0.59523809523809523810'), Decimal('1.4761904761904762'), Decimal('1817.7578947368421053'), Decimal('12.9880952380952381'), Decimal('6.0833333333333333'), Decimal('2.0000000000000000'), Decimal('0.54761904761904761905'), Decimal('8.8095238095238095'), Decimal('7.4166666666666667'), Decimal('1.8690476190476190'), Decimal('4.5833333333333333')], [1629028, 'deandre ayton', Decimal('17.3409090909090909'), Decimal('1.8181818181818182'), Decimal('0.65909090909090909091'), Decimal('1.3863636363636364'), Decimal('3.0454545454545455'), Decimal('1260.5230769230769231'), Decimal('14.1363636363636364'), Decimal('7.8409090909090909'), Decimal('0.34090909090909090909'), Decimal('0.11363636363636363636'), Decimal('2.0454545454545455'), Decimal('1.5454545454545455'), Decimal('3.7727272727272727'), Decimal('7.0681818181818182')], [203952, 'andrew wiggins', Decimal('20.9482758620689655'), Decimal('3.5172413793103448'), Decimal('0.77586206896551724138'), Decimal('0.91379310344827586207'), Decimal('2.3620689655172414'), Decimal('1942.3666666666666667'), Decimal('17.7586206896551724'), Decimal('7.8103448275862069'), Decimal('6.0344827586206897'), Decimal('1.9827586206896552'), Decimal('4.7586206896551724'), Decimal('3.3448275862068966'), Decimal('1.1896551724137931'), Decimal('3.6379310344827586')], [1629625, 'justin wright-foreman', Decimal('4.1111111111111111'), Decimal('1.3333333333333333'), Decimal('0.33333333333333333333'), Decimal('0E-20'), Decimal('1.1111111111111111'), Decimal('281.1250000000000000'), Decimal('3.7777777777777778'), Decimal('1.5555555555555556'), Decimal('1.3333333333333333'), Decimal('0.33333333333333333333'), Decimal('0.77777777777777777778'), Decimal('0.66666666666666666667'), Decimal('0.11111111111111111111'), Decimal('0.77777777777777777778')], [201571, 'd.j. augustin', Decimal('10.4366197183098592'), Decimal('4.5633802816901408'), Decimal('0.59154929577464788732'), Decimal('0.01408450704225352113'), Decimal('1.2253521126760563'), Decimal('1447.5694444444444444'), Decimal('7.8732394366197183'), Decimal('3.1830985915492958'), Decimal('3.3943661971830986'), Decimal('1.2394366197183099'), Decimal('3.1549295774647887'), Decimal('2.8309859154929577'), Decimal('0.33802816901408450704'), Decimal('1.6760563380281690')], [203925, 'joe harris', Decimal('14.0657894736842105'), Decimal('2.0526315789473684'), Decimal('0.56578947368421052632'), Decimal('0.25000000000000000000'), Decimal('2.3815789473684211'), Decimal('1755.9746835443037975'), Decimal('11.1315789473684211'), Decimal('5.3552631578947368'), Decimal('5.7368421052631579'), Decimal('2.4210526315789474'), Decimal('1.3289473684210526'), Decimal('0.93421052631578947368'), Decimal('0.89473684210526315789'), Decimal('3.5000000000000000')]]\n"
          ],
          "name": "stdout"
        }
      ]
    },
    {
      "cell_type": "markdown",
      "metadata": {
        "id": "XvLK9s0oSOmp"
      },
      "source": [
        "# Create data frame"
      ]
    },
    {
      "cell_type": "code",
      "metadata": {
        "colab": {
          "base_uri": "https://localhost:8080/",
          "height": 617
        },
        "id": "WfEyVqSgJM4E",
        "outputId": "fe2b9460-d50a-4b3e-b983-f2987b494f71"
      },
      "source": [
        "nba1 = pd.DataFrame(players, columns = [\"player_id\", \"player_name\", \"ppg\",\"apg\",\"steals\", \"blocks\", \"personal_fouls\",\"seconds_played\",\"fga\",\"fgm\",\"3pa\",\"3pm\",\"fta\",\"ftm\",\"orb\",\"drb\"])\n",
        "\n",
        "nba=nba1[nba1['seconds_played']>300]\n",
        "\n",
        "tr=nba['orb']+nba['drb']\n",
        "\n",
        "nba['tr']=tr\n",
        "\n",
        "nba\n"
      ],
      "execution_count": null,
      "outputs": [
        {
          "output_type": "stream",
          "text": [
            "/usr/local/lib/python3.7/dist-packages/ipykernel_launcher.py:7: SettingWithCopyWarning: \n",
            "A value is trying to be set on a copy of a slice from a DataFrame.\n",
            "Try using .loc[row_indexer,col_indexer] = value instead\n",
            "\n",
            "See the caveats in the documentation: https://pandas.pydata.org/pandas-docs/stable/user_guide/indexing.html#returning-a-view-versus-a-copy\n",
            "  import sys\n"
          ],
          "name": "stderr"
        },
        {
          "output_type": "execute_result",
          "data": {
            "text/html": [
              "<div>\n",
              "<style scoped>\n",
              "    .dataframe tbody tr th:only-of-type {\n",
              "        vertical-align: middle;\n",
              "    }\n",
              "\n",
              "    .dataframe tbody tr th {\n",
              "        vertical-align: top;\n",
              "    }\n",
              "\n",
              "    .dataframe thead th {\n",
              "        text-align: right;\n",
              "    }\n",
              "</style>\n",
              "<table border=\"1\" class=\"dataframe\">\n",
              "  <thead>\n",
              "    <tr style=\"text-align: right;\">\n",
              "      <th></th>\n",
              "      <th>player_id</th>\n",
              "      <th>player_name</th>\n",
              "      <th>ppg</th>\n",
              "      <th>apg</th>\n",
              "      <th>steals</th>\n",
              "      <th>blocks</th>\n",
              "      <th>personal_fouls</th>\n",
              "      <th>seconds_played</th>\n",
              "      <th>fga</th>\n",
              "      <th>fgm</th>\n",
              "      <th>3pa</th>\n",
              "      <th>3pm</th>\n",
              "      <th>fta</th>\n",
              "      <th>ftm</th>\n",
              "      <th>orb</th>\n",
              "      <th>drb</th>\n",
              "      <th>tr</th>\n",
              "    </tr>\n",
              "  </thead>\n",
              "  <tbody>\n",
              "    <tr>\n",
              "      <th>0</th>\n",
              "      <td>1629026</td>\n",
              "      <td>kenrich williams</td>\n",
              "      <td>3.3404255319148936</td>\n",
              "      <td>1.4893617021276596</td>\n",
              "      <td>0.72340425531914893617</td>\n",
              "      <td>0.51063829787234042553</td>\n",
              "      <td>2.4255319148936170</td>\n",
              "      <td>1003.6610169491525424</td>\n",
              "      <td>3.5744680851063830</td>\n",
              "      <td>1.2765957446808511</td>\n",
              "      <td>2.2553191489361702</td>\n",
              "      <td>0.59574468085106382979</td>\n",
              "      <td>0.55319148936170212766</td>\n",
              "      <td>0.19148936170212765957</td>\n",
              "      <td>1.2978723404255319</td>\n",
              "      <td>3.5319148936170213</td>\n",
              "      <td>4.8297872340425532</td>\n",
              "    </tr>\n",
              "    <tr>\n",
              "      <th>3</th>\n",
              "      <td>1629635</td>\n",
              "      <td>sekou doumbouya</td>\n",
              "      <td>5.9047619047619048</td>\n",
              "      <td>0.47619047619047619048</td>\n",
              "      <td>0.47619047619047619048</td>\n",
              "      <td>0.19047619047619047619</td>\n",
              "      <td>1.9523809523809524</td>\n",
              "      <td>1009.6304347826086957</td>\n",
              "      <td>5.8333333333333333</td>\n",
              "      <td>2.2380952380952381</td>\n",
              "      <td>2.4523809523809524</td>\n",
              "      <td>0.69047619047619047619</td>\n",
              "      <td>1.1428571428571429</td>\n",
              "      <td>0.73809523809523809524</td>\n",
              "      <td>0.50000000000000000000</td>\n",
              "      <td>2.4047619047619048</td>\n",
              "      <td>2.90476190476190480000</td>\n",
              "    </tr>\n",
              "    <tr>\n",
              "      <th>4</th>\n",
              "      <td>202710</td>\n",
              "      <td>jimmy butler</td>\n",
              "      <td>20.1309523809523810</td>\n",
              "      <td>5.9642857142857143</td>\n",
              "      <td>1.7500000000000000</td>\n",
              "      <td>0.59523809523809523810</td>\n",
              "      <td>1.4761904761904762</td>\n",
              "      <td>1817.7578947368421053</td>\n",
              "      <td>12.9880952380952381</td>\n",
              "      <td>6.0833333333333333</td>\n",
              "      <td>2.0000000000000000</td>\n",
              "      <td>0.54761904761904761905</td>\n",
              "      <td>8.8095238095238095</td>\n",
              "      <td>7.4166666666666667</td>\n",
              "      <td>1.8690476190476190</td>\n",
              "      <td>4.5833333333333333</td>\n",
              "      <td>6.4523809523809523</td>\n",
              "    </tr>\n",
              "    <tr>\n",
              "      <th>5</th>\n",
              "      <td>1629028</td>\n",
              "      <td>deandre ayton</td>\n",
              "      <td>17.3409090909090909</td>\n",
              "      <td>1.8181818181818182</td>\n",
              "      <td>0.65909090909090909091</td>\n",
              "      <td>1.3863636363636364</td>\n",
              "      <td>3.0454545454545455</td>\n",
              "      <td>1260.5230769230769231</td>\n",
              "      <td>14.1363636363636364</td>\n",
              "      <td>7.8409090909090909</td>\n",
              "      <td>0.34090909090909090909</td>\n",
              "      <td>0.11363636363636363636</td>\n",
              "      <td>2.0454545454545455</td>\n",
              "      <td>1.5454545454545455</td>\n",
              "      <td>3.7727272727272727</td>\n",
              "      <td>7.0681818181818182</td>\n",
              "      <td>10.8409090909090909</td>\n",
              "    </tr>\n",
              "    <tr>\n",
              "      <th>6</th>\n",
              "      <td>203952</td>\n",
              "      <td>andrew wiggins</td>\n",
              "      <td>20.9482758620689655</td>\n",
              "      <td>3.5172413793103448</td>\n",
              "      <td>0.77586206896551724138</td>\n",
              "      <td>0.91379310344827586207</td>\n",
              "      <td>2.3620689655172414</td>\n",
              "      <td>1942.3666666666666667</td>\n",
              "      <td>17.7586206896551724</td>\n",
              "      <td>7.8103448275862069</td>\n",
              "      <td>6.0344827586206897</td>\n",
              "      <td>1.9827586206896552</td>\n",
              "      <td>4.7586206896551724</td>\n",
              "      <td>3.3448275862068966</td>\n",
              "      <td>1.1896551724137931</td>\n",
              "      <td>3.6379310344827586</td>\n",
              "      <td>4.8275862068965517</td>\n",
              "    </tr>\n",
              "    <tr>\n",
              "      <th>...</th>\n",
              "      <td>...</td>\n",
              "      <td>...</td>\n",
              "      <td>...</td>\n",
              "      <td>...</td>\n",
              "      <td>...</td>\n",
              "      <td>...</td>\n",
              "      <td>...</td>\n",
              "      <td>...</td>\n",
              "      <td>...</td>\n",
              "      <td>...</td>\n",
              "      <td>...</td>\n",
              "      <td>...</td>\n",
              "      <td>...</td>\n",
              "      <td>...</td>\n",
              "      <td>...</td>\n",
              "      <td>...</td>\n",
              "      <td>...</td>\n",
              "    </tr>\n",
              "    <tr>\n",
              "      <th>503</th>\n",
              "      <td>1629033</td>\n",
              "      <td>theo pinson</td>\n",
              "      <td>3.8611111111111111</td>\n",
              "      <td>1.7222222222222222</td>\n",
              "      <td>0.47222222222222222222</td>\n",
              "      <td>0.13888888888888888889</td>\n",
              "      <td>1.00000000000000000000</td>\n",
              "      <td>411.8500000000000000</td>\n",
              "      <td>4.9722222222222222</td>\n",
              "      <td>1.4166666666666667</td>\n",
              "      <td>2.5555555555555556</td>\n",
              "      <td>0.44444444444444444444</td>\n",
              "      <td>0.63888888888888888889</td>\n",
              "      <td>0.58333333333333333333</td>\n",
              "      <td>0.30555555555555555556</td>\n",
              "      <td>1.3333333333333333</td>\n",
              "      <td>1.63888888888888885556</td>\n",
              "    </tr>\n",
              "    <tr>\n",
              "      <th>505</th>\n",
              "      <td>203991</td>\n",
              "      <td>clint capela</td>\n",
              "      <td>13.6818181818181818</td>\n",
              "      <td>1.2272727272727273</td>\n",
              "      <td>0.81818181818181818182</td>\n",
              "      <td>1.7954545454545455</td>\n",
              "      <td>2.5681818181818182</td>\n",
              "      <td>1862.5555555555555556</td>\n",
              "      <td>9.6136363636363636</td>\n",
              "      <td>6.0454545454545455</td>\n",
              "      <td>0E-20</td>\n",
              "      <td>0E-20</td>\n",
              "      <td>2.9318181818181818</td>\n",
              "      <td>1.5909090909090909</td>\n",
              "      <td>4.1136363636363636</td>\n",
              "      <td>9.0909090909090909</td>\n",
              "      <td>13.2045454545454545</td>\n",
              "    </tr>\n",
              "    <tr>\n",
              "      <th>506</th>\n",
              "      <td>1629008</td>\n",
              "      <td>michael porter jr.</td>\n",
              "      <td>9.9240506329113924</td>\n",
              "      <td>0.83544303797468354430</td>\n",
              "      <td>0.53164556962025316456</td>\n",
              "      <td>0.43037974683544303797</td>\n",
              "      <td>1.9873417721518987</td>\n",
              "      <td>938.1847826086956522</td>\n",
              "      <td>7.4556962025316456</td>\n",
              "      <td>3.7594936708860759</td>\n",
              "      <td>3.1392405063291139</td>\n",
              "      <td>1.2405063291139241</td>\n",
              "      <td>1.4556962025316456</td>\n",
              "      <td>1.1645569620253165</td>\n",
              "      <td>1.1898734177215190</td>\n",
              "      <td>3.9873417721518987</td>\n",
              "      <td>5.1772151898734177</td>\n",
              "    </tr>\n",
              "    <tr>\n",
              "      <th>507</th>\n",
              "      <td>202699</td>\n",
              "      <td>tobias harris</td>\n",
              "      <td>19.0240963855421687</td>\n",
              "      <td>3.0963855421686747</td>\n",
              "      <td>0.69879518072289156627</td>\n",
              "      <td>0.53012048192771084337</td>\n",
              "      <td>2.2771084337349398</td>\n",
              "      <td>1997.1071428571428571</td>\n",
              "      <td>15.9638554216867470</td>\n",
              "      <td>7.4337349397590361</td>\n",
              "      <td>4.8313253012048193</td>\n",
              "      <td>1.7108433734939759</td>\n",
              "      <td>3.0240963855421687</td>\n",
              "      <td>2.4457831325301205</td>\n",
              "      <td>1.1325301204819277</td>\n",
              "      <td>5.8915662650602410</td>\n",
              "      <td>7.0240963855421687</td>\n",
              "    </tr>\n",
              "    <tr>\n",
              "      <th>508</th>\n",
              "      <td>1629019</td>\n",
              "      <td>allonzo trier</td>\n",
              "      <td>6.8888888888888889</td>\n",
              "      <td>1.1851851851851852</td>\n",
              "      <td>0.22222222222222222222</td>\n",
              "      <td>0.14814814814814814815</td>\n",
              "      <td>1.2222222222222222</td>\n",
              "      <td>333.4098360655737705</td>\n",
              "      <td>4.7037037037037037</td>\n",
              "      <td>2.2222222222222222</td>\n",
              "      <td>2.3333333333333333</td>\n",
              "      <td>0.81481481481481481481</td>\n",
              "      <td>2.0370370370370370</td>\n",
              "      <td>1.6296296296296296</td>\n",
              "      <td>0.22222222222222222222</td>\n",
              "      <td>0.92592592592592592593</td>\n",
              "      <td>1.14814814814814814815</td>\n",
              "    </tr>\n",
              "  </tbody>\n",
              "</table>\n",
              "<p>437 rows × 17 columns</p>\n",
              "</div>"
            ],
            "text/plain": [
              "     player_id  ...                      tr\n",
              "0      1629026  ...      4.8297872340425532\n",
              "3      1629635  ...  2.90476190476190480000\n",
              "4       202710  ...      6.4523809523809523\n",
              "5      1629028  ...     10.8409090909090909\n",
              "6       203952  ...      4.8275862068965517\n",
              "..         ...  ...                     ...\n",
              "503    1629033  ...  1.63888888888888885556\n",
              "505     203991  ...     13.2045454545454545\n",
              "506    1629008  ...      5.1772151898734177\n",
              "507     202699  ...      7.0240963855421687\n",
              "508    1629019  ...  1.14814814814814814815\n",
              "\n",
              "[437 rows x 17 columns]"
            ]
          },
          "metadata": {
            "tags": []
          },
          "execution_count": 80
        }
      ]
    },
    {
      "cell_type": "code",
      "metadata": {
        "colab": {
          "base_uri": "https://localhost:8080/"
        },
        "id": "Z7TiCjrCUUZI",
        "outputId": "4375f5cb-668e-4e36-c64c-4c0d69781819"
      },
      "source": [
        "#number of rows, columns\n",
        "nba.shape"
      ],
      "execution_count": null,
      "outputs": [
        {
          "output_type": "execute_result",
          "data": {
            "text/plain": [
              "(437, 17)"
            ]
          },
          "metadata": {
            "tags": []
          },
          "execution_count": 81
        }
      ]
    },
    {
      "cell_type": "code",
      "metadata": {
        "colab": {
          "base_uri": "https://localhost:8080/"
        },
        "id": "Quo8RLoKUfvU",
        "outputId": "bda39b12-5247-42ee-b2af-d71263701ca4"
      },
      "source": [
        "#find average value for each numeric column\n",
        "nba.mean()"
      ],
      "execution_count": null,
      "outputs": [
        {
          "output_type": "execute_result",
          "data": {
            "text/plain": [
              "player_id         1.023575e+06\n",
              "ppg               9.903310e+00\n",
              "apg               2.170579e+00\n",
              "steals            6.971692e-01\n",
              "blocks            4.411093e-01\n",
              "personal_fouls    1.942433e+00\n",
              "seconds_played    1.158889e+03\n",
              "fga               7.912006e+00\n",
              "fgm               3.613958e+00\n",
              "3pa               3.050608e+00\n",
              "3pm               1.074561e+00\n",
              "fta               2.087485e+00\n",
              "ftm               1.600833e+00\n",
              "orb               9.117056e-01\n",
              "drb               3.106200e+00\n",
              "tr                4.017906e+00\n",
              "dtype: float64"
            ]
          },
          "metadata": {
            "tags": []
          },
          "execution_count": 82
        }
      ]
    },
    {
      "cell_type": "code",
      "metadata": {
        "colab": {
          "base_uri": "https://localhost:8080/"
        },
        "id": "1UWqomxUU4mS",
        "outputId": "5b594b73-a8e0-409a-8106-4b7c0a523538"
      },
      "source": [
        "#get mean of specific column\n",
        "nba.loc[:,'ppg'].mean()"
      ],
      "execution_count": null,
      "outputs": [
        {
          "output_type": "execute_result",
          "data": {
            "text/plain": [
              "9.903310251834144"
            ]
          },
          "metadata": {
            "tags": []
          },
          "execution_count": 83
        }
      ]
    },
    {
      "cell_type": "code",
      "metadata": {
        "colab": {
          "base_uri": "https://localhost:8080/",
          "height": 566
        },
        "id": "fv32qRyoVmaP",
        "outputId": "c0c01931-9e70-45b5-bd2a-90183c245d54"
      },
      "source": [
        "#pairwise scatter plot\n",
        "sns.pairplot(nba[['apg', 'ppg','tr']])"
      ],
      "execution_count": null,
      "outputs": [
        {
          "output_type": "execute_result",
          "data": {
            "text/plain": [
              "<seaborn.axisgrid.PairGrid at 0x7ff22fb74b10>"
            ]
          },
          "metadata": {
            "tags": []
          },
          "execution_count": 84
        },
        {
          "output_type": "display_data",
          "data": {
            "image/png": "[encoded data removed]",
            "text/plain": [
              "<Figure size 540x540 with 12 Axes>"
            ]
          },
          "metadata": {
            "tags": [],
            "needs_background": "light"
          }
        }
      ]
    },
    {
      "cell_type": "markdown",
      "metadata": {
        "id": "CBafGLkDS9Of"
      },
      "source": [
        "# Cluster players based on PPG and APG"
      ]
    },
    {
      "cell_type": "code",
      "metadata": {
        "colab": {
          "base_uri": "https://localhost:8080/"
        },
        "id": "EIJyNcSvgQZy",
        "outputId": "996610d9-df96-42a8-81b1-9c8dcf2458f2"
      },
      "source": [
        "import sklearn.cluster as cluster\n",
        "pts=nba[['apg','ppg']].dropna(axis=1) #get assists column\n",
        "kmeans=KMeans(n_clusters=5, random_state=1) #kmeans model with 5 clusters\n",
        "kmeans.fit(pts) #Train model\n",
        "labels = kmeans.labels_ #get cluster labels for each player\n",
        "labels\n"
      ],
      "execution_count": null,
      "outputs": [
        {
          "output_type": "execute_result",
          "data": {
            "text/plain": [
              "array([4, 4, 1, 1, 1, 2, 2, 4, 0, 0, 3, 0, 0, 0, 2, 0, 2, 4, 1, 1, 4, 4,\n",
              "       4, 0, 0, 4, 4, 4, 2, 1, 2, 2, 2, 2, 2, 2, 0, 4, 4, 0, 0, 3, 4, 0,\n",
              "       0, 1, 1, 4, 0, 0, 2, 4, 1, 0, 2, 4, 1, 2, 0, 4, 4, 4, 0, 2, 1, 4,\n",
              "       2, 3, 4, 2, 2, 4, 0, 2, 0, 2, 0, 0, 4, 0, 2, 0, 0, 2, 0, 0, 0, 4,\n",
              "       0, 4, 4, 4, 0, 4, 0, 4, 4, 0, 0, 2, 0, 0, 0, 2, 4, 0, 0, 2, 2, 4,\n",
              "       0, 2, 0, 3, 4, 4, 0, 2, 0, 0, 4, 2, 4, 0, 1, 4, 3, 4, 4, 4, 4, 0,\n",
              "       4, 4, 4, 1, 2, 4, 4, 1, 4, 3, 2, 0, 1, 0, 1, 4, 2, 0, 2, 4, 1, 4,\n",
              "       2, 2, 1, 4, 4, 4, 2, 0, 2, 0, 4, 0, 3, 0, 4, 4, 4, 4, 4, 2, 3, 2,\n",
              "       0, 0, 2, 2, 4, 0, 1, 1, 2, 0, 0, 0, 2, 1, 2, 1, 4, 1, 0, 0, 0, 1,\n",
              "       4, 2, 0, 4, 2, 0, 2, 2, 4, 4, 0, 3, 0, 4, 4, 2, 0, 0, 2, 4, 0, 0,\n",
              "       4, 4, 0, 4, 0, 4, 0, 4, 4, 0, 0, 0, 2, 1, 2, 0, 2, 2, 4, 4, 4, 0,\n",
              "       2, 4, 1, 0, 0, 4, 0, 2, 1, 1, 0, 3, 1, 4, 4, 4, 4, 4, 4, 4, 4, 2,\n",
              "       2, 2, 4, 0, 0, 0, 2, 1, 0, 0, 2, 0, 0, 0, 0, 4, 4, 4, 1, 2, 0, 4,\n",
              "       4, 4, 1, 1, 2, 2, 2, 0, 4, 0, 2, 4, 1, 2, 2, 3, 1, 0, 4, 4, 4, 0,\n",
              "       4, 3, 4, 0, 4, 0, 4, 4, 0, 1, 1, 2, 4, 1, 4, 4, 0, 0, 1, 4, 4, 3,\n",
              "       0, 4, 0, 4, 4, 0, 0, 4, 4, 0, 2, 2, 2, 1, 4, 4, 1, 0, 0, 2, 0, 0,\n",
              "       4, 0, 4, 4, 1, 4, 4, 4, 2, 0, 4, 0, 4, 1, 0, 1, 2, 1, 0, 0, 0, 4,\n",
              "       4, 4, 1, 0, 2, 2, 0, 0, 4, 1, 1, 2, 3, 4, 0, 4, 0, 2, 2, 2, 2, 4,\n",
              "       2, 4, 0, 1, 2, 4, 4, 0, 4, 0, 0, 0, 4, 0, 4, 3, 4, 1, 4, 4, 4, 0,\n",
              "       4, 1, 1, 4, 4, 0, 0, 0, 2, 2, 0, 3, 1, 2, 4, 2, 0, 1, 0],\n",
              "      dtype=int32)"
            ]
          },
          "metadata": {
            "tags": []
          },
          "execution_count": 86
        }
      ]
    },
    {
      "cell_type": "code",
      "metadata": {
        "colab": {
          "base_uri": "https://localhost:8080/",
          "height": 382
        },
        "id": "67n1ufzKg7mh",
        "outputId": "a34f8fca-f9ae-4a1f-f968-c7fe8e28ca2d"
      },
      "source": [
        "nba['Clusters']=kmeans.labels_\n",
        "nba.head()"
      ],
      "execution_count": null,
      "outputs": [
        {
          "output_type": "stream",
          "text": [
            "/usr/local/lib/python3.7/dist-packages/ipykernel_launcher.py:1: SettingWithCopyWarning: \n",
            "A value is trying to be set on a copy of a slice from a DataFrame.\n",
            "Try using .loc[row_indexer,col_indexer] = value instead\n",
            "\n",
            "See the caveats in the documentation: https://pandas.pydata.org/pandas-docs/stable/user_guide/indexing.html#returning-a-view-versus-a-copy\n",
            "  \"\"\"Entry point for launching an IPython kernel.\n"
          ],
          "name": "stderr"
        },
        {
          "output_type": "execute_result",
          "data": {
            "text/html": [
              "<div>\n",
              "<style scoped>\n",
              "    .dataframe tbody tr th:only-of-type {\n",
              "        vertical-align: middle;\n",
              "    }\n",
              "\n",
              "    .dataframe tbody tr th {\n",
              "        vertical-align: top;\n",
              "    }\n",
              "\n",
              "    .dataframe thead th {\n",
              "        text-align: right;\n",
              "    }\n",
              "</style>\n",
              "<table border=\"1\" class=\"dataframe\">\n",
              "  <thead>\n",
              "    <tr style=\"text-align: right;\">\n",
              "      <th></th>\n",
              "      <th>player_id</th>\n",
              "      <th>player_name</th>\n",
              "      <th>ppg</th>\n",
              "      <th>apg</th>\n",
              "      <th>steals</th>\n",
              "      <th>blocks</th>\n",
              "      <th>personal_fouls</th>\n",
              "      <th>seconds_played</th>\n",
              "      <th>fga</th>\n",
              "      <th>fgm</th>\n",
              "      <th>3pa</th>\n",
              "      <th>3pm</th>\n",
              "      <th>fta</th>\n",
              "      <th>ftm</th>\n",
              "      <th>orb</th>\n",
              "      <th>drb</th>\n",
              "      <th>tr</th>\n",
              "      <th>Clusters</th>\n",
              "    </tr>\n",
              "  </thead>\n",
              "  <tbody>\n",
              "    <tr>\n",
              "      <th>0</th>\n",
              "      <td>1629026</td>\n",
              "      <td>kenrich williams</td>\n",
              "      <td>3.3404255319148936</td>\n",
              "      <td>1.4893617021276596</td>\n",
              "      <td>0.72340425531914893617</td>\n",
              "      <td>0.51063829787234042553</td>\n",
              "      <td>2.4255319148936170</td>\n",
              "      <td>1003.6610169491525424</td>\n",
              "      <td>3.5744680851063830</td>\n",
              "      <td>1.2765957446808511</td>\n",
              "      <td>2.2553191489361702</td>\n",
              "      <td>0.59574468085106382979</td>\n",
              "      <td>0.55319148936170212766</td>\n",
              "      <td>0.19148936170212765957</td>\n",
              "      <td>1.2978723404255319</td>\n",
              "      <td>3.5319148936170213</td>\n",
              "      <td>4.8297872340425532</td>\n",
              "      <td>4</td>\n",
              "    </tr>\n",
              "    <tr>\n",
              "      <th>3</th>\n",
              "      <td>1629635</td>\n",
              "      <td>sekou doumbouya</td>\n",
              "      <td>5.9047619047619048</td>\n",
              "      <td>0.47619047619047619048</td>\n",
              "      <td>0.47619047619047619048</td>\n",
              "      <td>0.19047619047619047619</td>\n",
              "      <td>1.9523809523809524</td>\n",
              "      <td>1009.6304347826086957</td>\n",
              "      <td>5.8333333333333333</td>\n",
              "      <td>2.2380952380952381</td>\n",
              "      <td>2.4523809523809524</td>\n",
              "      <td>0.69047619047619047619</td>\n",
              "      <td>1.1428571428571429</td>\n",
              "      <td>0.73809523809523809524</td>\n",
              "      <td>0.50000000000000000000</td>\n",
              "      <td>2.4047619047619048</td>\n",
              "      <td>2.90476190476190480000</td>\n",
              "      <td>4</td>\n",
              "    </tr>\n",
              "    <tr>\n",
              "      <th>4</th>\n",
              "      <td>202710</td>\n",
              "      <td>jimmy butler</td>\n",
              "      <td>20.1309523809523810</td>\n",
              "      <td>5.9642857142857143</td>\n",
              "      <td>1.7500000000000000</td>\n",
              "      <td>0.59523809523809523810</td>\n",
              "      <td>1.4761904761904762</td>\n",
              "      <td>1817.7578947368421053</td>\n",
              "      <td>12.9880952380952381</td>\n",
              "      <td>6.0833333333333333</td>\n",
              "      <td>2.0000000000000000</td>\n",
              "      <td>0.54761904761904761905</td>\n",
              "      <td>8.8095238095238095</td>\n",
              "      <td>7.4166666666666667</td>\n",
              "      <td>1.8690476190476190</td>\n",
              "      <td>4.5833333333333333</td>\n",
              "      <td>6.4523809523809523</td>\n",
              "      <td>1</td>\n",
              "    </tr>\n",
              "    <tr>\n",
              "      <th>5</th>\n",
              "      <td>1629028</td>\n",
              "      <td>deandre ayton</td>\n",
              "      <td>17.3409090909090909</td>\n",
              "      <td>1.8181818181818182</td>\n",
              "      <td>0.65909090909090909091</td>\n",
              "      <td>1.3863636363636364</td>\n",
              "      <td>3.0454545454545455</td>\n",
              "      <td>1260.5230769230769231</td>\n",
              "      <td>14.1363636363636364</td>\n",
              "      <td>7.8409090909090909</td>\n",
              "      <td>0.34090909090909090909</td>\n",
              "      <td>0.11363636363636363636</td>\n",
              "      <td>2.0454545454545455</td>\n",
              "      <td>1.5454545454545455</td>\n",
              "      <td>3.7727272727272727</td>\n",
              "      <td>7.0681818181818182</td>\n",
              "      <td>10.8409090909090909</td>\n",
              "      <td>1</td>\n",
              "    </tr>\n",
              "    <tr>\n",
              "      <th>6</th>\n",
              "      <td>203952</td>\n",
              "      <td>andrew wiggins</td>\n",
              "      <td>20.9482758620689655</td>\n",
              "      <td>3.5172413793103448</td>\n",
              "      <td>0.77586206896551724138</td>\n",
              "      <td>0.91379310344827586207</td>\n",
              "      <td>2.3620689655172414</td>\n",
              "      <td>1942.3666666666666667</td>\n",
              "      <td>17.7586206896551724</td>\n",
              "      <td>7.8103448275862069</td>\n",
              "      <td>6.0344827586206897</td>\n",
              "      <td>1.9827586206896552</td>\n",
              "      <td>4.7586206896551724</td>\n",
              "      <td>3.3448275862068966</td>\n",
              "      <td>1.1896551724137931</td>\n",
              "      <td>3.6379310344827586</td>\n",
              "      <td>4.8275862068965517</td>\n",
              "      <td>1</td>\n",
              "    </tr>\n",
              "  </tbody>\n",
              "</table>\n",
              "</div>"
            ],
            "text/plain": [
              "   player_id       player_name  ...                      tr Clusters\n",
              "0    1629026  kenrich williams  ...      4.8297872340425532        4\n",
              "3    1629635   sekou doumbouya  ...  2.90476190476190480000        4\n",
              "4     202710      jimmy butler  ...      6.4523809523809523        1\n",
              "5    1629028     deandre ayton  ...     10.8409090909090909        1\n",
              "6     203952    andrew wiggins  ...      4.8275862068965517        1\n",
              "\n",
              "[5 rows x 18 columns]"
            ]
          },
          "metadata": {
            "tags": []
          },
          "execution_count": 87
        }
      ]
    },
    {
      "cell_type": "code",
      "metadata": {
        "colab": {
          "base_uri": "https://localhost:8080/"
        },
        "id": "_vxacGoGlc8B",
        "outputId": "b0afb9a8-b74d-4388-f918-0d32272f9253"
      },
      "source": [
        "nba['Clusters'].value_counts()"
      ],
      "execution_count": null,
      "outputs": [
        {
          "output_type": "execute_result",
          "data": {
            "text/plain": [
              "4    145\n",
              "0    134\n",
              "2     88\n",
              "1     54\n",
              "3     16\n",
              "Name: Clusters, dtype: int64"
            ]
          },
          "metadata": {
            "tags": []
          },
          "execution_count": 88
        }
      ]
    },
    {
      "cell_type": "code",
      "metadata": {
        "colab": {
          "base_uri": "https://localhost:8080/",
          "height": 298
        },
        "id": "onmqxeEfmMXF",
        "outputId": "ea396391-66f6-45bd-9771-7bba9da825f4"
      },
      "source": [
        "sns.scatterplot(x='apg', y='ppg', hue='Clusters', data=nba)"
      ],
      "execution_count": null,
      "outputs": [
        {
          "output_type": "execute_result",
          "data": {
            "text/plain": [
              "<matplotlib.axes._subplots.AxesSubplot at 0x7ff22fb74190>"
            ]
          },
          "metadata": {
            "tags": []
          },
          "execution_count": 89
        },
        {
          "output_type": "display_data",
          "data": {
            "image/png": "[encoded data removed]",
            "text/plain": [
              "<Figure size 432x288 with 1 Axes>"
            ]
          },
          "metadata": {
            "tags": [],
            "needs_background": "light"
          }
        }
      ]
    },
    {
      "cell_type": "markdown",
      "metadata": {
        "id": "hF-ieOm0w5Xw"
      },
      "source": [
        "### **This Plot has 5 clusters and shows which players are most similar to each other in terms of assists per game and points per game**"
      ]
    },
    {
      "cell_type": "code",
      "metadata": {
        "colab": {
          "base_uri": "https://localhost:8080/"
        },
        "id": "EDDUnO3GnEXP",
        "outputId": "69a57de8-d835-47a2-bf13-a015047f3ebe"
      },
      "source": [
        "giannis=pts.loc[nba['player_name']=='giannis antetokounmpo',:]\n",
        "luka =pts.loc[nba['player_name']=='luka doncic',:]\n",
        "#converting data into lists\n",
        "giannis_list=giannis.values.tolist()\n",
        "luka_list=luka.values.tolist()\n",
        "\n",
        "#classification of lebron and durant\n",
        "giannis_cluster=kmeans.predict(giannis_list)#Lebron belongs to cluster 3\n",
        "luka_cluster=kmeans.predict(luka_list)\n",
        "\n",
        "#print cluster label\n",
        "print(giannis_cluster)\n",
        "print(luka_cluster)"
      ],
      "execution_count": null,
      "outputs": [
        {
          "output_type": "stream",
          "text": [
            "[3]\n",
            "[3]\n"
          ],
          "name": "stdout"
        }
      ]
    },
    {
      "cell_type": "markdown",
      "metadata": {
        "id": "CXzmqPLCUy6I"
      },
      "source": [
        "# Cluster players based on steals and blocks"
      ]
    },
    {
      "cell_type": "code",
      "metadata": {
        "colab": {
          "base_uri": "https://localhost:8080/"
        },
        "id": "cn53ark9ghkY",
        "outputId": "120358d8-a4e8-4fde-fa4f-b12c906eb9c4"
      },
      "source": [
        "defense=nba[['steals','blocks']].dropna(axis=1) #get steals and blocks column\n",
        "Kmeans=KMeans(n_clusters=5, random_state=1) #kmeans model with 5 clusters\n",
        "Kmeans.fit(defense) #Train model\n",
        "Labels = Kmeans.labels_ #get cluster labels for each player\n",
        "Labels"
      ],
      "execution_count": null,
      "outputs": [
        {
          "output_type": "execute_result",
          "data": {
            "text/plain": [
              "array([0, 4, 1, 3, 3, 4, 4, 4, 0, 4, 0, 1, 4, 0, 0, 0, 0, 3, 1, 1, 4, 4,\n",
              "       4, 4, 1, 3, 0, 4, 0, 0, 0, 4, 4, 0, 3, 1, 0, 4, 4, 1, 3, 3, 4, 4,\n",
              "       0, 1, 0, 0, 0, 0, 4, 0, 0, 0, 3, 4, 1, 0, 4, 4, 4, 4, 1, 0, 2, 4,\n",
              "       0, 0, 4, 0, 4, 4, 4, 1, 4, 1, 4, 4, 4, 4, 0, 0, 0, 0, 0, 2, 0, 4,\n",
              "       0, 4, 4, 4, 4, 0, 4, 4, 4, 0, 4, 0, 0, 0, 0, 4, 4, 0, 4, 4, 0, 4,\n",
              "       3, 0, 3, 0, 0, 3, 0, 4, 4, 0, 4, 0, 4, 3, 4, 4, 3, 4, 4, 0, 4, 0,\n",
              "       3, 4, 0, 0, 0, 4, 0, 4, 4, 1, 0, 3, 0, 4, 1, 3, 0, 4, 3, 4, 4, 4,\n",
              "       0, 0, 2, 4, 3, 4, 0, 1, 2, 4, 4, 4, 0, 1, 4, 4, 0, 3, 4, 2, 1, 3,\n",
              "       4, 3, 3, 1, 4, 4, 0, 1, 0, 0, 3, 0, 0, 1, 3, 0, 3, 0, 0, 0, 0, 2,\n",
              "       0, 0, 4, 3, 3, 4, 3, 2, 4, 0, 0, 1, 3, 3, 3, 0, 4, 0, 0, 4, 3, 0,\n",
              "       4, 0, 0, 4, 4, 4, 3, 4, 4, 1, 3, 0, 0, 1, 1, 3, 0, 1, 4, 4, 4, 1,\n",
              "       3, 4, 1, 4, 4, 4, 4, 3, 0, 3, 0, 1, 0, 4, 4, 4, 4, 1, 4, 4, 4, 0,\n",
              "       0, 4, 4, 4, 0, 0, 4, 1, 4, 3, 0, 0, 0, 1, 0, 4, 4, 3, 0, 1, 4, 4,\n",
              "       4, 4, 0, 0, 4, 1, 0, 4, 3, 4, 0, 4, 1, 4, 0, 2, 1, 0, 4, 4, 0, 0,\n",
              "       4, 0, 4, 4, 4, 0, 0, 4, 0, 0, 1, 0, 0, 0, 1, 0, 4, 3, 0, 3, 0, 1,\n",
              "       0, 4, 0, 4, 4, 4, 0, 4, 4, 1, 0, 4, 2, 1, 3, 4, 3, 3, 1, 3, 4, 3,\n",
              "       4, 4, 4, 1, 2, 4, 0, 4, 3, 0, 4, 1, 4, 2, 0, 0, 0, 0, 1, 4, 0, 4,\n",
              "       4, 3, 0, 1, 3, 3, 4, 0, 4, 1, 3, 0, 1, 4, 0, 0, 4, 0, 4, 4, 0, 4,\n",
              "       2, 4, 3, 3, 3, 0, 3, 0, 4, 2, 4, 4, 3, 4, 4, 1, 4, 0, 4, 4, 4, 4,\n",
              "       3, 0, 0, 4, 4, 4, 1, 4, 4, 4, 0, 1, 0, 1, 4, 2, 4, 0, 4],\n",
              "      dtype=int32)"
            ]
          },
          "metadata": {
            "tags": []
          },
          "execution_count": 91
        }
      ]
    },
    {
      "cell_type": "code",
      "metadata": {
        "colab": {
          "base_uri": "https://localhost:8080/",
          "height": 382
        },
        "id": "MMwFggvOg3vT",
        "outputId": "4a9ee70d-74dc-4be7-fc7f-a8d8f02b2ed0"
      },
      "source": [
        "nba['Clusters']=Kmeans.labels_\n",
        "nba.head()"
      ],
      "execution_count": null,
      "outputs": [
        {
          "output_type": "stream",
          "text": [
            "/usr/local/lib/python3.7/dist-packages/ipykernel_launcher.py:1: SettingWithCopyWarning: \n",
            "A value is trying to be set on a copy of a slice from a DataFrame.\n",
            "Try using .loc[row_indexer,col_indexer] = value instead\n",
            "\n",
            "See the caveats in the documentation: https://pandas.pydata.org/pandas-docs/stable/user_guide/indexing.html#returning-a-view-versus-a-copy\n",
            "  \"\"\"Entry point for launching an IPython kernel.\n"
          ],
          "name": "stderr"
        },
        {
          "output_type": "execute_result",
          "data": {
            "text/html": [
              "<div>\n",
              "<style scoped>\n",
              "    .dataframe tbody tr th:only-of-type {\n",
              "        vertical-align: middle;\n",
              "    }\n",
              "\n",
              "    .dataframe tbody tr th {\n",
              "        vertical-align: top;\n",
              "    }\n",
              "\n",
              "    .dataframe thead th {\n",
              "        text-align: right;\n",
              "    }\n",
              "</style>\n",
              "<table border=\"1\" class=\"dataframe\">\n",
              "  <thead>\n",
              "    <tr style=\"text-align: right;\">\n",
              "      <th></th>\n",
              "      <th>player_id</th>\n",
              "      <th>player_name</th>\n",
              "      <th>ppg</th>\n",
              "      <th>apg</th>\n",
              "      <th>steals</th>\n",
              "      <th>blocks</th>\n",
              "      <th>personal_fouls</th>\n",
              "      <th>seconds_played</th>\n",
              "      <th>fga</th>\n",
              "      <th>fgm</th>\n",
              "      <th>3pa</th>\n",
              "      <th>3pm</th>\n",
              "      <th>fta</th>\n",
              "      <th>ftm</th>\n",
              "      <th>orb</th>\n",
              "      <th>drb</th>\n",
              "      <th>tr</th>\n",
              "      <th>Clusters</th>\n",
              "    </tr>\n",
              "  </thead>\n",
              "  <tbody>\n",
              "    <tr>\n",
              "      <th>0</th>\n",
              "      <td>1629026</td>\n",
              "      <td>kenrich williams</td>\n",
              "      <td>3.3404255319148936</td>\n",
              "      <td>1.4893617021276596</td>\n",
              "      <td>0.72340425531914893617</td>\n",
              "      <td>0.51063829787234042553</td>\n",
              "      <td>2.4255319148936170</td>\n",
              "      <td>1003.6610169491525424</td>\n",
              "      <td>3.5744680851063830</td>\n",
              "      <td>1.2765957446808511</td>\n",
              "      <td>2.2553191489361702</td>\n",
              "      <td>0.59574468085106382979</td>\n",
              "      <td>0.55319148936170212766</td>\n",
              "      <td>0.19148936170212765957</td>\n",
              "      <td>1.2978723404255319</td>\n",
              "      <td>3.5319148936170213</td>\n",
              "      <td>4.8297872340425532</td>\n",
              "      <td>0</td>\n",
              "    </tr>\n",
              "    <tr>\n",
              "      <th>3</th>\n",
              "      <td>1629635</td>\n",
              "      <td>sekou doumbouya</td>\n",
              "      <td>5.9047619047619048</td>\n",
              "      <td>0.47619047619047619048</td>\n",
              "      <td>0.47619047619047619048</td>\n",
              "      <td>0.19047619047619047619</td>\n",
              "      <td>1.9523809523809524</td>\n",
              "      <td>1009.6304347826086957</td>\n",
              "      <td>5.8333333333333333</td>\n",
              "      <td>2.2380952380952381</td>\n",
              "      <td>2.4523809523809524</td>\n",
              "      <td>0.69047619047619047619</td>\n",
              "      <td>1.1428571428571429</td>\n",
              "      <td>0.73809523809523809524</td>\n",
              "      <td>0.50000000000000000000</td>\n",
              "      <td>2.4047619047619048</td>\n",
              "      <td>2.90476190476190480000</td>\n",
              "      <td>4</td>\n",
              "    </tr>\n",
              "    <tr>\n",
              "      <th>4</th>\n",
              "      <td>202710</td>\n",
              "      <td>jimmy butler</td>\n",
              "      <td>20.1309523809523810</td>\n",
              "      <td>5.9642857142857143</td>\n",
              "      <td>1.7500000000000000</td>\n",
              "      <td>0.59523809523809523810</td>\n",
              "      <td>1.4761904761904762</td>\n",
              "      <td>1817.7578947368421053</td>\n",
              "      <td>12.9880952380952381</td>\n",
              "      <td>6.0833333333333333</td>\n",
              "      <td>2.0000000000000000</td>\n",
              "      <td>0.54761904761904761905</td>\n",
              "      <td>8.8095238095238095</td>\n",
              "      <td>7.4166666666666667</td>\n",
              "      <td>1.8690476190476190</td>\n",
              "      <td>4.5833333333333333</td>\n",
              "      <td>6.4523809523809523</td>\n",
              "      <td>1</td>\n",
              "    </tr>\n",
              "    <tr>\n",
              "      <th>5</th>\n",
              "      <td>1629028</td>\n",
              "      <td>deandre ayton</td>\n",
              "      <td>17.3409090909090909</td>\n",
              "      <td>1.8181818181818182</td>\n",
              "      <td>0.65909090909090909091</td>\n",
              "      <td>1.3863636363636364</td>\n",
              "      <td>3.0454545454545455</td>\n",
              "      <td>1260.5230769230769231</td>\n",
              "      <td>14.1363636363636364</td>\n",
              "      <td>7.8409090909090909</td>\n",
              "      <td>0.34090909090909090909</td>\n",
              "      <td>0.11363636363636363636</td>\n",
              "      <td>2.0454545454545455</td>\n",
              "      <td>1.5454545454545455</td>\n",
              "      <td>3.7727272727272727</td>\n",
              "      <td>7.0681818181818182</td>\n",
              "      <td>10.8409090909090909</td>\n",
              "      <td>3</td>\n",
              "    </tr>\n",
              "    <tr>\n",
              "      <th>6</th>\n",
              "      <td>203952</td>\n",
              "      <td>andrew wiggins</td>\n",
              "      <td>20.9482758620689655</td>\n",
              "      <td>3.5172413793103448</td>\n",
              "      <td>0.77586206896551724138</td>\n",
              "      <td>0.91379310344827586207</td>\n",
              "      <td>2.3620689655172414</td>\n",
              "      <td>1942.3666666666666667</td>\n",
              "      <td>17.7586206896551724</td>\n",
              "      <td>7.8103448275862069</td>\n",
              "      <td>6.0344827586206897</td>\n",
              "      <td>1.9827586206896552</td>\n",
              "      <td>4.7586206896551724</td>\n",
              "      <td>3.3448275862068966</td>\n",
              "      <td>1.1896551724137931</td>\n",
              "      <td>3.6379310344827586</td>\n",
              "      <td>4.8275862068965517</td>\n",
              "      <td>3</td>\n",
              "    </tr>\n",
              "  </tbody>\n",
              "</table>\n",
              "</div>"
            ],
            "text/plain": [
              "   player_id       player_name  ...                      tr Clusters\n",
              "0    1629026  kenrich williams  ...      4.8297872340425532        0\n",
              "3    1629635   sekou doumbouya  ...  2.90476190476190480000        4\n",
              "4     202710      jimmy butler  ...      6.4523809523809523        1\n",
              "5    1629028     deandre ayton  ...     10.8409090909090909        3\n",
              "6     203952    andrew wiggins  ...      4.8275862068965517        3\n",
              "\n",
              "[5 rows x 18 columns]"
            ]
          },
          "metadata": {
            "tags": []
          },
          "execution_count": 92
        }
      ]
    },
    {
      "cell_type": "code",
      "metadata": {
        "colab": {
          "base_uri": "https://localhost:8080/"
        },
        "id": "_3NFSXFEhJP8",
        "outputId": "24234ca4-b20b-4a42-90b5-604f0ef5d0d5"
      },
      "source": [
        "nba['Clusters'].value_counts()"
      ],
      "execution_count": null,
      "outputs": [
        {
          "output_type": "execute_result",
          "data": {
            "text/plain": [
              "4    172\n",
              "0    141\n",
              "3     59\n",
              "1     51\n",
              "2     14\n",
              "Name: Clusters, dtype: int64"
            ]
          },
          "metadata": {
            "tags": []
          },
          "execution_count": 93
        }
      ]
    },
    {
      "cell_type": "code",
      "metadata": {
        "colab": {
          "base_uri": "https://localhost:8080/",
          "height": 296
        },
        "id": "74Ek-gU5hfxU",
        "outputId": "8ce4cdbd-4149-4f92-d4e0-cd618ae4f6be"
      },
      "source": [
        "sns.scatterplot(x='steals', y='blocks', hue='Clusters', data=nba)"
      ],
      "execution_count": null,
      "outputs": [
        {
          "output_type": "execute_result",
          "data": {
            "text/plain": [
              "<matplotlib.axes._subplots.AxesSubplot at 0x7ff22f6882d0>"
            ]
          },
          "metadata": {
            "tags": []
          },
          "execution_count": 94
        },
        {
          "output_type": "display_data",
          "data": {
            "image/png": "[encoded data removed]",
            "text/plain": [
              "<Figure size 432x288 with 1 Axes>"
            ]
          },
          "metadata": {
            "tags": [],
            "needs_background": "light"
          }
        }
      ]
    },
    {
      "cell_type": "markdown",
      "metadata": {
        "id": "7SWl7qf8WPt3"
      },
      "source": [
        "### **This Plot has 5 clusters and shows which players are most similar to each other in terms of steals per game and blocks per game**"
      ]
    },
    {
      "cell_type": "code",
      "metadata": {
        "colab": {
          "base_uri": "https://localhost:8080/"
        },
        "id": "a_MOJ0-aVCX3",
        "outputId": "d71f836a-abe5-4c70-dd94-372ce99f555d"
      },
      "source": [
        "og=defense.loc[nba['player_name']=='og anunoby',:]\n",
        "draymond =defense.loc[nba['player_name']=='draymond green',:]\n",
        "#converting data into lists\n",
        "og_list=og.values.tolist()\n",
        "draymond_list=draymond.values.tolist()\n",
        "\n",
        "#classification of og and draymond\n",
        "og_cluster=kmeans.predict(og_list)#og belongs to cluster 0\n",
        "draymond_cluster=kmeans.predict(draymond_list)\n",
        "\n",
        "#print cluster label\n",
        "print(og_cluster)\n",
        "print(draymond_cluster)"
      ],
      "execution_count": null,
      "outputs": [
        {
          "output_type": "stream",
          "text": [
            "[4]\n",
            "[4]\n"
          ],
          "name": "stdout"
        }
      ]
    },
    {
      "cell_type": "markdown",
      "metadata": {
        "id": "jRIAGxANXHtM"
      },
      "source": [
        "# Linear Regression"
      ]
    },
    {
      "cell_type": "code",
      "metadata": {
        "id": "2pAylYMBbPHf"
      },
      "source": [
        "#splitting data into 80% teaining and 20% testing\n",
        "from sklearn.model_selection import train_test_split\n",
        "X_train, X_test, y_train, y_test=train_test_split(nba[['fgm']], nba[['ppg']], test_size=.2, random_state=2)"
      ],
      "execution_count": null,
      "outputs": []
    },
    {
      "cell_type": "code",
      "metadata": {
        "colab": {
          "base_uri": "https://localhost:8080/"
        },
        "id": "7nx_L7Z0cGC2",
        "outputId": "f38577b8-ac30-480f-ec58-7f8cfe603193"
      },
      "source": [
        "#predict the number of ppg per player from the fg made\n",
        "from sklearn.linear_model import LinearRegression\n",
        "#create linear regression model\n",
        "lr=LinearRegression()\n",
        "lr.fit(X_train, y_train)#training model\n",
        "predictions=lr.predict(X_test)#make predictions on test data\n",
        "\n",
        "print(predictions)\n",
        "print(y_test)"
      ],
      "execution_count": null,
      "outputs": [
        {
          "output_type": "stream",
          "text": [
            "[[ 2.72594749]\n",
            " [ 5.07640024]\n",
            " [14.57336665]\n",
            " [10.08613073]\n",
            " [ 9.69498573]\n",
            " [ 5.52892718]\n",
            " [ 6.75977075]\n",
            " [ 9.73011561]\n",
            " [ 6.21478399]\n",
            " [ 4.62786453]\n",
            " [ 2.84381477]\n",
            " [ 2.08077923]\n",
            " [ 3.67043661]\n",
            " [11.60459319]\n",
            " [18.39870794]\n",
            " [20.58975377]\n",
            " [ 6.02143389]\n",
            " [ 5.60248172]\n",
            " [19.89436202]\n",
            " [ 3.02957249]\n",
            " [12.13489458]\n",
            " [ 3.56261637]\n",
            " [10.74971078]\n",
            " [11.85490115]\n",
            " [21.54597157]\n",
            " [ 9.16260707]\n",
            " [ 8.47449082]\n",
            " [14.16804478]\n",
            " [15.12774494]\n",
            " [17.41361777]\n",
            " [ 6.8444525 ]\n",
            " [ 9.16207202]\n",
            " [ 7.55797112]\n",
            " [ 5.35272587]\n",
            " [ 5.06085692]\n",
            " [ 5.30248485]\n",
            " [ 6.99340928]\n",
            " [ 7.01507572]\n",
            " [21.87158391]\n",
            " [ 7.78537827]\n",
            " [11.55278214]\n",
            " [16.5425853 ]\n",
            " [24.85993355]\n",
            " [16.81160424]\n",
            " [ 6.43644044]\n",
            " [ 5.49487415]\n",
            " [10.30997265]\n",
            " [15.36495218]\n",
            " [11.10450388]\n",
            " [ 3.6812928 ]\n",
            " [ 9.66167862]\n",
            " [11.69936951]\n",
            " [13.2440937 ]\n",
            " [ 3.57247934]\n",
            " [ 7.81813936]\n",
            " [ 2.95439963]\n",
            " [ 9.72968063]\n",
            " [11.0471777 ]\n",
            " [ 5.38726657]\n",
            " [20.06423433]\n",
            " [ 5.87577081]\n",
            " [15.81855901]\n",
            " [ 4.82770718]\n",
            " [13.68073619]\n",
            " [ 3.36663542]\n",
            " [13.1053272 ]\n",
            " [16.92817911]\n",
            " [11.27086904]\n",
            " [ 5.19092994]\n",
            " [15.15735126]\n",
            " [ 3.37634999]\n",
            " [ 4.79101476]\n",
            " [ 7.52675838]\n",
            " [ 6.16900396]\n",
            " [ 5.56212888]\n",
            " [ 8.79708164]\n",
            " [ 7.44880119]\n",
            " [22.68273881]\n",
            " [ 5.489625  ]\n",
            " [21.4745992 ]\n",
            " [10.23121358]\n",
            " [18.73877874]\n",
            " [ 4.68781733]\n",
            " [24.343127  ]\n",
            " [ 5.10031304]\n",
            " [ 7.53026   ]\n",
            " [13.08120826]\n",
            " [ 4.94216251]]\n",
            "                     ppg\n",
            "348   3.0243902439024390\n",
            "294   5.0555555555555556\n",
            "455  14.4333333333333333\n",
            "445  10.5641025641025641\n",
            "217  10.6349206349206349\n",
            "..                   ...\n",
            "345  25.5393258426966292\n",
            "132   5.0256410256410256\n",
            "214   7.2446808510638298\n",
            "79   14.9500000000000000\n",
            "44    4.5909090909090909\n",
            "\n",
            "[88 rows x 1 columns]\n"
          ],
          "name": "stdout"
        }
      ]
    },
    {
      "cell_type": "code",
      "metadata": {
        "colab": {
          "base_uri": "https://localhost:8080/"
        },
        "id": "HNNJ57jQc-ee",
        "outputId": "5ccd2ec7-0c1b-437e-ba57-d2795bb7895b"
      },
      "source": [
        "#test model: score returns the coefficient of determination R^2 of the prediction\n",
        "lr_confidence=lr.score(X_test, y_test)\n",
        "print(\"lr confidence: \", lr_confidence)"
      ],
      "execution_count": null,
      "outputs": [
        {
          "output_type": "stream",
          "text": [
            "lr confidence:  0.9714821610494642\n"
          ],
          "name": "stdout"
        }
      ]
    },
    {
      "cell_type": "markdown",
      "metadata": {
        "id": "2xbfaNvzZG-i"
      },
      "source": [
        "### **A very good model**"
      ]
    }
  ]
}