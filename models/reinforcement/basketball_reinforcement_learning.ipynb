{
  "nbformat": 4,
  "nbformat_minor": 0,
  "metadata": {
    "colab": {
      "name": "basketball_reinforcement_learning.ipynb",
      "provenance": []
    },
    "kernelspec": {
      "display_name": "Python 3",
      "name": "python3"
    },
    "language_info": {
      "name": "python"
    }
  },
  "cells": [
    {
      "cell_type": "markdown",
      "metadata": {
        "id": "lSFcaqeGjfeg"
      },
      "source": [
        "<h2>Connect to the database</h2>"
      ]
    },
    {
      "cell_type": "code",
      "metadata": {
        "colab": {
          "base_uri": "https://localhost:8080/"
        },
        "id": "KtdxeqE7jjnr",
        "outputId": "25db6e54-38dc-47e5-ce92-bc8e24b5be3d"
      },
      "source": [
        "import psycopg2\n",
        "\n",
        "db_login = {\n",
        "    'database': 'basketball',\n",
        "    'user': 'globetrotter',\n",
        "    'password': 'alpacaalpaca',\n",
        "    'host': 'blaskey.dev',\n",
        "    'port': 5432\n",
        "}\n",
        "conn = psycopg2.connect(**db_login)\n",
        "cur = conn.cursor()"
      ],
      "execution_count": null,
      "outputs": [
        {
          "output_type": "stream",
          "text": [
            "/usr/local/lib/python3.7/dist-packages/psycopg2/__init__.py:144: UserWarning: The psycopg2 wheel package will be renamed from release 2.8; in order to keep installing from binary please use \"pip install psycopg2-binary\" instead. For details see: <http://initd.org/psycopg/docs/install.html#binary-install-from-pypi>.\n",
            "  \"\"\")\n"
          ],
          "name": "stderr"
        }
      ]
    },
    {
      "cell_type": "markdown",
      "metadata": {
        "id": "cHowxTgkjomP"
      },
      "source": [
        "<h2>Get all games data</h2>\n",
        "\n",
        "<p>We are only going to consider game data for our reinforcement betting bot. There should be more than enough data with just the game data for some patterns to be learned. Adding in player data would add a lot more complexity to the model.</p>"
      ]
    },
    {
      "cell_type": "code",
      "metadata": {
        "colab": {
          "base_uri": "https://localhost:8080/"
        },
        "id": "ahztxhvBjnMg",
        "outputId": "3ebe51d5-a897-4693-d142-a4826a044572"
      },
      "source": [
        "cur.execute(\"SELECT * FROM game ORDER BY game_date\") # ordered by past -> present\n",
        "games_data_raw = []\n",
        "for i in cur.fetchall():\n",
        "  games_data_raw.append(i)\n",
        "\n",
        "print(\"Got\", len(games_data_raw), \"games\")\n",
        "for i in games_data_raw[:10]: # View a sample of the data\n",
        "  print(i)"
      ],
      "execution_count": null,
      "outputs": [
        {
          "output_type": "stream",
          "text": [
            "Got 24146 games\n",
            "(10300001, datetime.date(2003, 10, 5), 1610612762, 1610612742, 2003, True, None, None, None, None, None, None, None, None, None, None, None, None, None, None, None, None, False, False)\n",
            "(10300002, datetime.date(2003, 10, 6), 1610612763, 1610612749, 2003, True, None, None, None, None, None, None, None, None, None, None, None, None, None, None, None, None, False, False)\n",
            "(10300010, datetime.date(2003, 10, 7), 1610612764, 1610612752, 2003, True, None, None, None, None, None, None, None, None, None, None, None, None, None, None, None, None, False, False)\n",
            "(10300006, datetime.date(2003, 10, 7), 1610612747, 1610612744, 2003, False, None, None, None, None, None, None, None, None, None, None, None, None, None, None, None, None, False, False)\n",
            "(10300003, datetime.date(2003, 10, 7), 1610612765, 1610612739, 2003, False, None, None, None, None, None, None, None, None, None, None, None, None, None, None, None, None, False, False)\n",
            "(10300004, datetime.date(2003, 10, 7), 1610612742, 1610612753, 2003, True, None, None, None, None, None, None, None, None, None, None, None, None, None, None, None, None, False, False)\n",
            "(10300008, datetime.date(2003, 10, 7), 1610612756, 1610612751, 2003, False, None, None, None, None, None, None, None, None, None, None, None, None, None, None, None, None, False, False)\n",
            "(10300007, datetime.date(2003, 10, 7), 1610612748, 1610612755, 2003, True, None, None, None, None, None, None, None, None, None, None, None, None, None, None, None, None, False, False)\n",
            "(10300005, datetime.date(2003, 10, 7), 1610612757, 1610612745, 2003, True, None, None, None, None, None, None, None, None, None, None, None, None, None, None, None, None, False, False)\n",
            "(10300009, datetime.date(2003, 10, 7), 1610612758, 1610612746, 2003, True, None, None, None, None, None, None, None, None, None, None, None, None, None, None, None, None, False, False)\n"
          ],
          "name": "stdout"
        }
      ]
    },
    {
      "cell_type": "markdown",
      "metadata": {
        "id": "scGwnzOild92"
      },
      "source": [
        "<h2>Put the games data into a pandas dataframe for processing<h2>"
      ]
    },
    {
      "cell_type": "code",
      "metadata": {
        "id": "Wzq91dI8lNmR"
      },
      "source": [
        "import pandas as pd \n",
        "\n",
        "cols = [\"game_id\", \"game_date\", \"home_team_id\", \"away_team_id\", \"season\", \"home_team_won\", \n",
        "        \"home_first\", \"home_second\", \"home_third\", \"home_fourt\", \"home_open\", \"home_close\", \"home_ml\", \"home_two_h\",\n",
        "        \"away_first\", \"away_second\", \"away_third\", \"away_fourt\", \"away_open\", \"away_close\", \"away_ml\", \"away_two_h\",\n",
        "        \"home_won_last\", \"away_won_last\"]\n",
        "game_data = pd.DataFrame(games_data_raw, columns = cols)"
      ],
      "execution_count": null,
      "outputs": []
    },
    {
      "cell_type": "markdown",
      "metadata": {
        "id": "U91I_kFJnASM"
      },
      "source": [
        "<h2>Cleansings</h2>\n",
        "\n",
        "There are two aspects of missing data. Games with bettings odds we couldn't find, this is represented as the entire odds data being null.\n",
        "\n",
        "The second is games with betting odds of \"Pick Em\". This is also represented as a null but the entire row will not be null. Pick Em means each team is equally favored to win (or a moneyline of +100, we will get into what exactly moneyline means later)."
      ]
    },
    {
      "cell_type": "code",
      "metadata": {
        "colab": {
          "base_uri": "https://localhost:8080/"
        },
        "id": "qX_6guw0pAX-",
        "outputId": "61e8ce3f-e419-4eef-dc4f-42030300cd69"
      },
      "source": [
        "betting_cols = cols[6:22]\n",
        "home_betting_cols = betting_cols[:len(betting_cols) // 2]\n",
        "away_betting_cols = betting_cols[len(betting_cols) // 2:]\n",
        "\n",
        "home_betting_cols, away_betting_cols"
      ],
      "execution_count": null,
      "outputs": [
        {
          "output_type": "execute_result",
          "data": {
            "text/plain": [
              "(['home_first',\n",
              "  'home_second',\n",
              "  'home_third',\n",
              "  'home_fourt',\n",
              "  'home_open',\n",
              "  'home_close',\n",
              "  'home_ml',\n",
              "  'home_two_h'],\n",
              " ['away_first',\n",
              "  'away_second',\n",
              "  'away_third',\n",
              "  'away_fourt',\n",
              "  'away_open',\n",
              "  'away_close',\n",
              "  'away_ml',\n",
              "  'away_two_h'])"
            ]
          },
          "metadata": {
            "tags": []
          },
          "execution_count": 7
        }
      ]
    },
    {
      "cell_type": "code",
      "metadata": {
        "id": "_e4_8MdupkA8"
      },
      "source": [
        "# Drop games with all missing home betting odds\n",
        "cleansed_game_data = game_data.dropna(subset = home_betting_cols, how = \"all\")\n",
        "# Drop games with all missing away betting odds\n",
        "cleansed_game_data = cleansed_game_data.dropna(subset = away_betting_cols, how = \"all\")"
      ],
      "execution_count": null,
      "outputs": []
    },
    {
      "cell_type": "code",
      "metadata": {
        "colab": {
          "base_uri": "https://localhost:8080/",
          "height": 424
        },
        "id": "-eHzl8qmqonU",
        "outputId": "03764e05-b374-4451-eeb1-23ae1839e0fc"
      },
      "source": [
        "# Replace pick ems with value of 100 \n",
        "cleansed_game_data = cleansed_game_data.fillna(100)\n",
        "\n",
        "cols_to_drop = betting_cols.copy()\n",
        "cols_to_drop.remove(\"home_ml\")\n",
        "cols_to_drop.remove(\"away_ml\")\n",
        "\n",
        "cleansed_game_data.drop(cols_to_drop, axis = 1)"
      ],
      "execution_count": null,
      "outputs": [
        {
          "output_type": "execute_result",
          "data": {
            "text/html": [
              "<div>\n",
              "<style scoped>\n",
              "    .dataframe tbody tr th:only-of-type {\n",
              "        vertical-align: middle;\n",
              "    }\n",
              "\n",
              "    .dataframe tbody tr th {\n",
              "        vertical-align: top;\n",
              "    }\n",
              "\n",
              "    .dataframe thead th {\n",
              "        text-align: right;\n",
              "    }\n",
              "</style>\n",
              "<table border=\"1\" class=\"dataframe\">\n",
              "  <thead>\n",
              "    <tr style=\"text-align: right;\">\n",
              "      <th></th>\n",
              "      <th>game_id</th>\n",
              "      <th>game_date</th>\n",
              "      <th>home_team_id</th>\n",
              "      <th>away_team_id</th>\n",
              "      <th>season</th>\n",
              "      <th>home_team_won</th>\n",
              "      <th>home_ml</th>\n",
              "      <th>away_ml</th>\n",
              "      <th>home_won_last</th>\n",
              "      <th>away_won_last</th>\n",
              "    </tr>\n",
              "  </thead>\n",
              "  <tbody>\n",
              "    <tr>\n",
              "      <th>5927</th>\n",
              "      <td>20700239</td>\n",
              "      <td>2007-12-01</td>\n",
              "      <td>1610612741</td>\n",
              "      <td>1610612766</td>\n",
              "      <td>2007</td>\n",
              "      <td>True</td>\n",
              "      <td>-325.0</td>\n",
              "      <td>275.0</td>\n",
              "      <td>True</td>\n",
              "      <td>False</td>\n",
              "    </tr>\n",
              "    <tr>\n",
              "      <th>5928</th>\n",
              "      <td>20700240</td>\n",
              "      <td>2007-12-01</td>\n",
              "      <td>1610612749</td>\n",
              "      <td>1610612765</td>\n",
              "      <td>2007</td>\n",
              "      <td>False</td>\n",
              "      <td>190.0</td>\n",
              "      <td>-230.0</td>\n",
              "      <td>False</td>\n",
              "      <td>True</td>\n",
              "    </tr>\n",
              "    <tr>\n",
              "      <th>5930</th>\n",
              "      <td>20700241</td>\n",
              "      <td>2007-12-01</td>\n",
              "      <td>1610612758</td>\n",
              "      <td>1610612745</td>\n",
              "      <td>2007</td>\n",
              "      <td>True</td>\n",
              "      <td>220.0</td>\n",
              "      <td>-260.0</td>\n",
              "      <td>False</td>\n",
              "      <td>False</td>\n",
              "    </tr>\n",
              "    <tr>\n",
              "      <th>5931</th>\n",
              "      <td>20700235</td>\n",
              "      <td>2007-12-01</td>\n",
              "      <td>1610612764</td>\n",
              "      <td>1610612761</td>\n",
              "      <td>2007</td>\n",
              "      <td>True</td>\n",
              "      <td>-155.0</td>\n",
              "      <td>135.0</td>\n",
              "      <td>False</td>\n",
              "      <td>True</td>\n",
              "    </tr>\n",
              "    <tr>\n",
              "      <th>5932</th>\n",
              "      <td>20700237</td>\n",
              "      <td>2007-12-01</td>\n",
              "      <td>1610612763</td>\n",
              "      <td>1610612750</td>\n",
              "      <td>2007</td>\n",
              "      <td>True</td>\n",
              "      <td>-450.0</td>\n",
              "      <td>370.0</td>\n",
              "      <td>False</td>\n",
              "      <td>False</td>\n",
              "    </tr>\n",
              "    <tr>\n",
              "      <th>...</th>\n",
              "      <td>...</td>\n",
              "      <td>...</td>\n",
              "      <td>...</td>\n",
              "      <td>...</td>\n",
              "      <td>...</td>\n",
              "      <td>...</td>\n",
              "      <td>...</td>\n",
              "      <td>...</td>\n",
              "      <td>...</td>\n",
              "      <td>...</td>\n",
              "    </tr>\n",
              "    <tr>\n",
              "      <th>24046</th>\n",
              "      <td>22000552</td>\n",
              "      <td>2021-03-04</td>\n",
              "      <td>1610612738</td>\n",
              "      <td>1610612761</td>\n",
              "      <td>2020</td>\n",
              "      <td>True</td>\n",
              "      <td>-365.0</td>\n",
              "      <td>305.0</td>\n",
              "      <td>True</td>\n",
              "      <td>False</td>\n",
              "    </tr>\n",
              "    <tr>\n",
              "      <th>24047</th>\n",
              "      <td>22000554</td>\n",
              "      <td>2021-03-04</td>\n",
              "      <td>1610612764</td>\n",
              "      <td>1610612746</td>\n",
              "      <td>2020</td>\n",
              "      <td>True</td>\n",
              "      <td>235.0</td>\n",
              "      <td>-275.0</td>\n",
              "      <td>False</td>\n",
              "      <td>False</td>\n",
              "    </tr>\n",
              "    <tr>\n",
              "      <th>24048</th>\n",
              "      <td>22000553</td>\n",
              "      <td>2021-03-04</td>\n",
              "      <td>1610612754</td>\n",
              "      <td>1610612743</td>\n",
              "      <td>2020</td>\n",
              "      <td>False</td>\n",
              "      <td>150.0</td>\n",
              "      <td>-170.0</td>\n",
              "      <td>True</td>\n",
              "      <td>True</td>\n",
              "    </tr>\n",
              "    <tr>\n",
              "      <th>24049</th>\n",
              "      <td>22000555</td>\n",
              "      <td>2021-03-04</td>\n",
              "      <td>1610612763</td>\n",
              "      <td>1610612749</td>\n",
              "      <td>2020</td>\n",
              "      <td>False</td>\n",
              "      <td>200.0</td>\n",
              "      <td>-240.0</td>\n",
              "      <td>True</td>\n",
              "      <td>False</td>\n",
              "    </tr>\n",
              "    <tr>\n",
              "      <th>24050</th>\n",
              "      <td>22000557</td>\n",
              "      <td>2021-03-04</td>\n",
              "      <td>1610612740</td>\n",
              "      <td>1610612748</td>\n",
              "      <td>2020</td>\n",
              "      <td>False</td>\n",
              "      <td>110.0</td>\n",
              "      <td>-130.0</td>\n",
              "      <td>False</td>\n",
              "      <td>False</td>\n",
              "    </tr>\n",
              "  </tbody>\n",
              "</table>\n",
              "<p>7802 rows × 10 columns</p>\n",
              "</div>"
            ],
            "text/plain": [
              "        game_id   game_date  ...  home_won_last  away_won_last\n",
              "5927   20700239  2007-12-01  ...           True          False\n",
              "5928   20700240  2007-12-01  ...          False           True\n",
              "5930   20700241  2007-12-01  ...          False          False\n",
              "5931   20700235  2007-12-01  ...          False           True\n",
              "5932   20700237  2007-12-01  ...          False          False\n",
              "...         ...         ...  ...            ...            ...\n",
              "24046  22000552  2021-03-04  ...           True          False\n",
              "24047  22000554  2021-03-04  ...          False          False\n",
              "24048  22000553  2021-03-04  ...           True           True\n",
              "24049  22000555  2021-03-04  ...           True          False\n",
              "24050  22000557  2021-03-04  ...          False          False\n",
              "\n",
              "[7802 rows x 10 columns]"
            ]
          },
          "metadata": {
            "tags": []
          },
          "execution_count": 9
        }
      ]
    },
    {
      "cell_type": "markdown",
      "metadata": {
        "id": "7iXr8IRHssTp"
      },
      "source": [
        "<h2>What is a moneyline?</h2>\n",
        "\n",
        "A negative money line is what you need to bet to win $100\n",
        "\n",
        "A positive moneyline is what you win if you bet $100.\n",
        "\n",
        "Example \n",
        "lakers -140\n",
        "celtics +175\n",
        "\n",
        "A \\$140 bet on the lakers would mean you have \\$240 (the \\$140 you started with and the \\$100 you won).\n",
        "\n",
        "A \\$100 bet on the celtics would mean you have \\$275 (the \\$100 you started with and the \\$175 you won).\n",
        "\n",
        "[Source](https://www.oddsshark.com/sports-betting/betting-money-line)\n",
        "\n",
        "<h2>How to convert moneyline to something more sensable</h2>\n",
        "\n",
        "[Source](https://www.gamingtoday.com/tools/moneyline/)"
      ]
    },
    {
      "cell_type": "code",
      "metadata": {
        "colab": {
          "base_uri": "https://localhost:8080/"
        },
        "id": "SxGt5ckXu9Mf",
        "outputId": "45c27d42-a8ae-48bf-8b27-95f7bfcf6421"
      },
      "source": [
        "def get_return(ml, bet_amount): # Returns the profit + bet_amount.\n",
        "  if ml < 0:\n",
        "    return (100 / -ml) * bet_amount + bet_amount\n",
        "  return (ml / 100) * bet_amount + bet_amount\n",
        "print(get_return(-165, 50), get_return(+140, 50))\n",
        "print(get_return(-140, 140), get_return(+175, 100))"
      ],
      "execution_count": null,
      "outputs": [
        {
          "output_type": "stream",
          "text": [
            "80.30303030303031 120.0\n",
            "240.0 275.0\n"
          ],
          "name": "stdout"
        }
      ]
    },
    {
      "cell_type": "markdown",
      "metadata": {
        "id": "lEUHjxU51b80"
      },
      "source": [
        "<h2>For fun, lets test out some betting strategies</h2>\n"
      ]
    },
    {
      "cell_type": "code",
      "metadata": {
        "id": "DT72OETu1oXY"
      },
      "source": [
        "def test_best_strat(should_bet_on_home, bet_amount = 100):\n",
        "  season = cleansed_game_data.iloc[0][\"season\"]\n",
        "\n",
        "  bets_on_home, wins_on_home, home_win_amount = 0, 0, 0\n",
        "  bets_on_away, wins_on_away, away_win_amount = 0, 0, 0\n",
        "\n",
        "  seasons = []\n",
        "  bets_on_homes, wins_on_homes, home_win_amounts = [], [], []\n",
        "  bets_on_aways, wins_on_aways, away_win_amounts = [], [], []\n",
        "  for game in cleansed_game_data.iterrows():\n",
        "    if game[1][\"season\"] != season:\n",
        "      seasons.append(season)\n",
        "      bets_on_homes.append(bets_on_home)      \n",
        "      wins_on_homes.append(wins_on_home)\n",
        "      home_win_amounts.append(home_win_amount)\n",
        "\n",
        "      bets_on_aways.append(bets_on_away)\n",
        "      wins_on_aways.append(wins_on_away)   \n",
        "      away_win_amounts.append(away_win_amount)\n",
        "\n",
        "      season = game[1][\"season\"]\n",
        "      bets_on_home, wins_on_home, home_win_amount = 0, 0, 0\n",
        "      bets_on_away, wins_on_away, away_win_amount = 0, 0, 0\n",
        "\n",
        "    if should_bet_on_home(game[1]):\n",
        "      bets_on_home += 1\n",
        "      if game[1][\"home_team_won\"]:\n",
        "        wins_on_home += 1\n",
        "        home_win_amount += get_return(game[1][\"home_ml\"], bet_amount)\n",
        "\n",
        "    else:\n",
        "      bets_on_away += 1\n",
        "      if not game[1][\"home_team_won\"]:\n",
        "        wins_on_away += 1\n",
        "        away_win_amount += get_return(game[1][\"away_ml\"], bet_amount)\n",
        "\n",
        "  seasons.append(season)\n",
        "  bets_on_homes.append(bets_on_home)      \n",
        "  wins_on_homes.append(wins_on_home)\n",
        "  home_win_amounts.append(home_win_amount)\n",
        "\n",
        "  bets_on_aways.append(bets_on_away)\n",
        "  wins_on_aways.append(wins_on_away)   \n",
        "  away_win_amounts.append(away_win_amount)\n",
        "\n",
        "  total_spent = 0\n",
        "  total_profit = 0\n",
        "  for i in range(len(seasons)):\n",
        "    amount_spent = (bets_on_homes[i] + bets_on_aways[i]) * bet_amount\n",
        "    profit = home_win_amounts[i] + away_win_amounts[i] - amount_spent\n",
        "    print(f\"\"\"season {seasons[i]} amount spent {amount_spent} profit {profit}\n",
        "          home bets_placed {bets_on_homes[i]} bets_won {wins_on_homes[i]} amount_won {home_win_amounts[i]} \n",
        "          away bets_placed {bets_on_aways[i]} bets_won {wins_on_aways[i]} amount_won {away_win_amounts[i]}\\n\"\"\")\n",
        "    \n",
        "    total_spent += amount_spent\n",
        "    total_profit += profit\n",
        "\n",
        "  print(f\"\"\"Total amount spent {total_spent} total profit {total_profit}\"\"\")"
      ],
      "execution_count": null,
      "outputs": []
    },
    {
      "cell_type": "markdown",
      "metadata": {
        "id": "K-fLPONM9vDD"
      },
      "source": [
        "\n",
        "<h2>Let's always bet $100 on the home team</h2>"
      ]
    },
    {
      "cell_type": "code",
      "metadata": {
        "colab": {
          "base_uri": "https://localhost:8080/"
        },
        "id": "53aji6q192dD",
        "outputId": "1d5ae27e-74f7-4681-80ae-ca8e45bfdc83"
      },
      "source": [
        "def always_bet_on_home(game_data):\n",
        "  return True\n",
        "\n",
        "test_best_strat(always_bet_on_home)"
      ],
      "execution_count": null,
      "outputs": [
        {
          "output_type": "stream",
          "text": [
            "season 2007 amount spent 57700 profit -3177.223457068234\n",
            "          home bets_placed 577 bets_won 347 amount_won 54522.776542931766 \n",
            "          away bets_placed 0 bets_won 0 amount_won 0\n",
            "\n",
            "season 2008 amount spent 56200 profit 1103.121760273083\n",
            "          home bets_placed 562 bets_won 346 amount_won 57303.12176027308 \n",
            "          away bets_placed 0 bets_won 0 amount_won 0\n",
            "\n",
            "season 2009 amount spent 56400 profit -1361.7807611626267\n",
            "          home bets_placed 564 bets_won 343 amount_won 55038.21923883737 \n",
            "          away bets_placed 0 bets_won 0 amount_won 0\n",
            "\n",
            "season 2010 amount spent 55000 profit -1332.4785586682046\n",
            "          home bets_placed 550 bets_won 340 amount_won 53667.521441331795 \n",
            "          away bets_placed 0 bets_won 0 amount_won 0\n",
            "\n",
            "season 2011 amount spent 56400 profit -2924.111817011122\n",
            "          home bets_placed 564 bets_won 334 amount_won 53475.88818298888 \n",
            "          away bets_placed 0 bets_won 0 amount_won 0\n",
            "\n",
            "season 2012 amount spent 64600 profit 505.53219738878397\n",
            "          home bets_placed 646 bets_won 405 amount_won 65105.532197388784 \n",
            "          away bets_placed 0 bets_won 0 amount_won 0\n",
            "\n",
            "season 2013 amount spent 62400 profit -4108.099226820166\n",
            "          home bets_placed 624 bets_won 356 amount_won 58291.900773179834 \n",
            "          away bets_placed 0 bets_won 0 amount_won 0\n",
            "\n",
            "season 2014 amount spent 62000 profit -2332.619305355016\n",
            "          home bets_placed 620 bets_won 359 amount_won 59667.380694644984 \n",
            "          away bets_placed 0 bets_won 0 amount_won 0\n",
            "\n",
            "season 2015 amount spent 60300 profit 277.6613368049948\n",
            "          home bets_placed 603 bets_won 362 amount_won 60577.661336804995 \n",
            "          away bets_placed 0 bets_won 0 amount_won 0\n",
            "\n",
            "season 2016 amount spent 61800 profit -659.7761206296345\n",
            "          home bets_placed 618 bets_won 362 amount_won 61140.223879370365 \n",
            "          away bets_placed 0 bets_won 0 amount_won 0\n",
            "\n",
            "season 2017 amount spent 57800 profit -4939.522680183065\n",
            "          home bets_placed 578 bets_won 334 amount_won 52860.477319816935 \n",
            "          away bets_placed 0 bets_won 0 amount_won 0\n",
            "\n",
            "season 2018 amount spent 58400 profit -923.3836670211167\n",
            "          home bets_placed 584 bets_won 345 amount_won 57476.61633297888 \n",
            "          away bets_placed 0 bets_won 0 amount_won 0\n",
            "\n",
            "season 2019 amount spent 40200 profit -3742.072928867543\n",
            "          home bets_placed 402 bets_won 206 amount_won 36457.92707113246 \n",
            "          away bets_placed 0 bets_won 0 amount_won 0\n",
            "\n",
            "season 2020 amount spent 31000 profit 741.7990883459861\n",
            "          home bets_placed 310 bets_won 162 amount_won 31741.799088345986 \n",
            "          away bets_placed 0 bets_won 0 amount_won 0\n",
            "\n",
            "Total amount spent 780200 total profit -22872.95413997388\n"
          ],
          "name": "stdout"
        }
      ]
    },
    {
      "cell_type": "markdown",
      "metadata": {
        "id": "ryLhwfzl99gO"
      },
      "source": [
        "<h2>Let's always bet $100 on the away team</h2>"
      ]
    },
    {
      "cell_type": "code",
      "metadata": {
        "colab": {
          "base_uri": "https://localhost:8080/"
        },
        "id": "oSdBe-4K-AWQ",
        "outputId": "60950394-304e-4b5a-d9bc-921215acca6c"
      },
      "source": [
        "def always_bet_on_away(game_data):\n",
        "  return False\n",
        "\n",
        "test_best_strat(always_bet_on_away)"
      ],
      "execution_count": null,
      "outputs": [
        {
          "output_type": "stream",
          "text": [
            "season 2007 amount spent 57700 profit 1771.2279624211005\n",
            "          home bets_placed 0 bets_won 0 amount_won 0 \n",
            "          away bets_placed 577 bets_won 230 amount_won 59471.2279624211\n",
            "\n",
            "season 2008 amount spent 56200 profit -1369.9237575135994\n",
            "          home bets_placed 0 bets_won 0 amount_won 0 \n",
            "          away bets_placed 562 bets_won 216 amount_won 54830.0762424864\n",
            "\n",
            "season 2009 amount spent 56400 profit -4321.622604855758\n",
            "          home bets_placed 0 bets_won 0 amount_won 0 \n",
            "          away bets_placed 564 bets_won 221 amount_won 52078.37739514424\n",
            "\n",
            "season 2010 amount spent 55000 profit -3387.617616479889\n",
            "          home bets_placed 0 bets_won 0 amount_won 0 \n",
            "          away bets_placed 550 bets_won 210 amount_won 51612.38238352011\n",
            "\n",
            "season 2011 amount spent 56400 profit -1047.792225334677\n",
            "          home bets_placed 0 bets_won 0 amount_won 0 \n",
            "          away bets_placed 564 bets_won 230 amount_won 55352.20777466532\n",
            "\n",
            "season 2012 amount spent 64600 profit -5022.444821739402\n",
            "          home bets_placed 0 bets_won 0 amount_won 0 \n",
            "          away bets_placed 646 bets_won 241 amount_won 59577.5551782606\n",
            "\n",
            "season 2013 amount spent 62400 profit -672.9681881729193\n",
            "          home bets_placed 0 bets_won 0 amount_won 0 \n",
            "          away bets_placed 624 bets_won 268 amount_won 61727.03181182708\n",
            "\n",
            "season 2014 amount spent 62000 profit -1214.6011254447367\n",
            "          home bets_placed 0 bets_won 0 amount_won 0 \n",
            "          away bets_placed 620 bets_won 261 amount_won 60785.39887455526\n",
            "\n",
            "season 2015 amount spent 60300 profit -3298.832041937043\n",
            "          home bets_placed 0 bets_won 0 amount_won 0 \n",
            "          away bets_placed 603 bets_won 241 amount_won 57001.16795806296\n",
            "\n",
            "season 2016 amount spent 61800 profit 1438.2521885058595\n",
            "          home bets_placed 0 bets_won 0 amount_won 0 \n",
            "          away bets_placed 618 bets_won 256 amount_won 63238.25218850586\n",
            "\n",
            "season 2017 amount spent 57800 profit -2908.880868151922\n",
            "          home bets_placed 0 bets_won 0 amount_won 0 \n",
            "          away bets_placed 578 bets_won 244 amount_won 54891.11913184808\n",
            "\n",
            "season 2018 amount spent 58400 profit 495.64799159598624\n",
            "          home bets_placed 0 bets_won 0 amount_won 0 \n",
            "          away bets_placed 584 bets_won 239 amount_won 58895.647991595986\n",
            "\n",
            "season 2019 amount spent 40200 profit 9676.308698306988\n",
            "          home bets_placed 0 bets_won 0 amount_won 0 \n",
            "          away bets_placed 402 bets_won 196 amount_won 49876.30869830699\n",
            "\n",
            "season 2020 amount spent 31000 profit 2063.395857934818\n",
            "          home bets_placed 0 bets_won 0 amount_won 0 \n",
            "          away bets_placed 310 bets_won 148 amount_won 33063.39585793482\n",
            "\n",
            "Total amount spent 780200 total profit -7799.850550865194\n"
          ],
          "name": "stdout"
        }
      ]
    },
    {
      "cell_type": "markdown",
      "metadata": {
        "id": "9QvLLfxe-hOF"
      },
      "source": [
        "<h2>Let's always bet $100 on the favorite</h2>"
      ]
    },
    {
      "cell_type": "code",
      "metadata": {
        "colab": {
          "base_uri": "https://localhost:8080/"
        },
        "id": "F04NsvaI-mZc",
        "outputId": "043949d3-061c-4b76-e561-17fe854da0d5"
      },
      "source": [
        "def always_bet_on_favorite(game_data):\n",
        "  # Favorite is the one with a negative moneyline\n",
        "  return game_data[\"home_ml\"] < 0\n",
        "\n",
        "test_best_strat(always_bet_on_favorite)"
      ],
      "execution_count": null,
      "outputs": [
        {
          "output_type": "stream",
          "text": [
            "season 2007 amount spent 57700 profit -1620.6011788180476\n",
            "          home bets_placed 413 bets_won 294 amount_won 38804.77654293178 \n",
            "          away bets_placed 164 bets_won 111 amount_won 17274.622278250175\n",
            "\n",
            "season 2008 amount spent 56200 profit -1770.6349420734332\n",
            "          home bets_placed 397 bets_won 283 amount_won 38365.12176027312 \n",
            "          away bets_placed 165 bets_won 102 amount_won 16064.243297653451\n",
            "\n",
            "season 2009 amount spent 56400 profit -1932.3643293281348\n",
            "          home bets_placed 413 bets_won 286 amount_won 40033.21923883737 \n",
            "          away bets_placed 151 bets_won 94 amount_won 14434.416431834496\n",
            "\n",
            "season 2010 amount spent 55000 profit 1596.7081781044835\n",
            "          home bets_placed 391 bets_won 284 amount_won 38892.52144133182 \n",
            "          away bets_placed 159 bets_won 103 amount_won 17704.186736772666\n",
            "\n",
            "season 2011 amount spent 56400 profit -2480.6487468007253\n",
            "          home bets_placed 390 bets_won 270 amount_won 36610.888182988914 \n",
            "          away bets_placed 174 bets_won 110 amount_won 17308.463070210357\n",
            "\n",
            "season 2012 amount spent 64600 profit 224.67461080693465\n",
            "          home bets_placed 464 bets_won 336 amount_won 45983.53219738877 \n",
            "          away bets_placed 182 bets_won 113 amount_won 18841.14241341816\n",
            "\n",
            "season 2013 amount spent 62400 profit -1682.0680696849522\n",
            "          home bets_placed 424 bets_won 290 amount_won 39989.900773179856 \n",
            "          away bets_placed 200 bets_won 134 amount_won 20728.031157135192\n",
            "\n",
            "season 2014 amount spent 62000 profit -5154.028428720434\n",
            "          home bets_placed 428 bets_won 289 amount_won 39149.380694644984 \n",
            "          away bets_placed 192 bets_won 122 amount_won 17696.590876634582\n",
            "\n",
            "season 2015 amount spent 60300 profit -2405.5941021843028\n",
            "          home bets_placed 416 bets_won 292 amount_won 40307.66133680503 \n",
            "          away bets_placed 187 bets_won 117 amount_won 17586.744561010662\n",
            "\n",
            "season 2016 amount spent 61800 profit -5120.323738181396\n",
            "          home bets_placed 440 bets_won 295 amount_won 40233.22387937042 \n",
            "          away bets_placed 178 bets_won 111 amount_won 16446.45238244819\n",
            "\n",
            "season 2017 amount spent 57800 profit 972.8930228821991\n",
            "          home bets_placed 385 bets_won 277 amount_won 37777.47731981697 \n",
            "          away bets_placed 193 bets_won 136 amount_won 20995.415703065228\n",
            "\n",
            "season 2018 amount spent 58400 profit -1395.0533701896275\n",
            "          home bets_placed 393 bets_won 277 amount_won 37966.616332978876 \n",
            "          away bets_placed 191 bets_won 123 amount_won 19038.330296831497\n",
            "\n",
            "season 2019 amount spent 40200 profit -3473.258427185181\n",
            "          home bets_placed 258 bets_won 159 amount_won 22103.927071132446 \n",
            "          away bets_placed 144 bets_won 97 amount_won 14622.81450168237\n",
            "\n",
            "season 2020 amount spent 31000 profit -3738.878082140087\n",
            "          home bets_placed 180 bets_won 105 amount_won 15491.799088345968 \n",
            "          away bets_placed 130 bets_won 73 amount_won 11769.322829513943\n",
            "\n",
            "Total amount spent 780200 total profit -27979.177603512704\n"
          ],
          "name": "stdout"
        }
      ]
    },
    {
      "cell_type": "markdown",
      "metadata": {
        "id": "Y6mBn07L_U-u"
      },
      "source": [
        "<h2>Lets always bet on the underdog</h2>"
      ]
    },
    {
      "cell_type": "code",
      "metadata": {
        "colab": {
          "base_uri": "https://localhost:8080/"
        },
        "id": "AehJWr7i_aRQ",
        "outputId": "9792a38d-55c6-4427-97c4-82c67c32a539"
      },
      "source": [
        "def always_bet_on_underdog(game_data):\n",
        "  # Underdog is the one with a positive moneyline\n",
        "  return game_data[\"home_ml\"] > 0\n",
        "\n",
        "test_best_strat(always_bet_on_underdog)"
      ],
      "execution_count": null,
      "outputs": [
        {
          "output_type": "stream",
          "text": [
            "season 2007 amount spent 57700 profit 214.60568417089235\n",
            "          home bets_placed 164 bets_won 53 amount_won 15718.0 \n",
            "          away bets_placed 413 bets_won 119 amount_won 42196.60568417089\n",
            "\n",
            "season 2008 amount spent 56200 profit 1503.832944832946\n",
            "          home bets_placed 165 bets_won 63 amount_won 18938.0 \n",
            "          away bets_placed 397 bets_won 114 amount_won 38765.832944832946\n",
            "\n",
            "season 2009 amount spent 56400 profit -3751.03903669025\n",
            "          home bets_placed 151 bets_won 57 amount_won 15005.0 \n",
            "          away bets_placed 413 bets_won 127 amount_won 37643.96096330975\n",
            "\n",
            "season 2010 amount spent 55000 profit -6316.804353252563\n",
            "          home bets_placed 159 bets_won 56 amount_won 14775.0 \n",
            "          away bets_placed 391 bets_won 107 amount_won 33908.19564674744\n",
            "\n",
            "season 2011 amount spent 56400 profit -1491.25529554503\n",
            "          home bets_placed 174 bets_won 64 amount_won 16865.0 \n",
            "          away bets_placed 390 bets_won 120 amount_won 38043.74470445497\n",
            "\n",
            "season 2012 amount spent 64600 profit -4741.587235157567\n",
            "          home bets_placed 182 bets_won 69 amount_won 19122.0 \n",
            "          away bets_placed 464 bets_won 128 amount_won 40736.41276484243\n",
            "\n",
            "season 2013 amount spent 62400 profit -3098.9993453080897\n",
            "          home bets_placed 200 bets_won 66 amount_won 18302.0 \n",
            "          away bets_placed 424 bets_won 134 amount_won 40999.00065469191\n",
            "\n",
            "season 2014 amount spent 62000 profit 1606.807997920674\n",
            "          home bets_placed 192 bets_won 70 amount_won 20518.0 \n",
            "          away bets_placed 428 bets_won 139 amount_won 43088.807997920674\n",
            "\n",
            "season 2015 amount spent 60300 profit -615.5766029476945\n",
            "          home bets_placed 187 bets_won 70 amount_won 20270.0 \n",
            "          away bets_placed 416 bets_won 124 amount_won 39414.423397052306\n",
            "\n",
            "season 2016 amount spent 61800 profit 5898.799806057679\n",
            "          home bets_placed 178 bets_won 67 amount_won 20907.0 \n",
            "          away bets_placed 440 bets_won 145 amount_won 46791.79980605767\n",
            "\n",
            "season 2017 amount spent 57800 profit -8821.296571217143\n",
            "          home bets_placed 193 bets_won 57 amount_won 15083.0 \n",
            "          away bets_placed 385 bets_won 108 amount_won 33895.70342878286\n",
            "\n",
            "season 2018 amount spent 58400 profit 967.3176947645261\n",
            "          home bets_placed 191 bets_won 68 amount_won 19510.0 \n",
            "          away bets_placed 393 bets_won 116 amount_won 39857.317694764526\n",
            "\n",
            "season 2019 amount spent 40200 profit 9407.494196624626\n",
            "          home bets_placed 144 bets_won 47 amount_won 14354.0 \n",
            "          away bets_placed 258 bets_won 99 amount_won 35253.494196624626\n",
            "\n",
            "season 2020 amount spent 31000 profit 6544.073028420855\n",
            "          home bets_placed 130 bets_won 57 amount_won 16250.0 \n",
            "          away bets_placed 180 bets_won 75 amount_won 21294.07302842086\n",
            "\n",
            "Total amount spent 780200 total profit -2693.6270873261383\n"
          ],
          "name": "stdout"
        }
      ]
    },
    {
      "cell_type": "markdown",
      "metadata": {
        "id": "bT4H-rpXAGj8"
      },
      "source": [
        "<h2>Let's bet on if the home team won<h2>"
      ]
    },
    {
      "cell_type": "code",
      "metadata": {
        "colab": {
          "base_uri": "https://localhost:8080/"
        },
        "id": "nIQGyMEYAFE7",
        "outputId": "f910c070-f825-4668-fe2d-2934d9484adb"
      },
      "source": [
        "def bet_on_if_home_won(game_data):\n",
        "  return game_data[\"home_won_last\"]\n",
        "\n",
        "test_best_strat(bet_on_if_home_won)"
      ],
      "execution_count": null,
      "outputs": [
        {
          "output_type": "stream",
          "text": [
            "season 2007 amount spent 57700 profit -7007.351597916422\n",
            "          home bets_placed 288 bets_won 173 amount_won 25128.97751411884 \n",
            "          away bets_placed 289 bets_won 115 amount_won 25563.670887964734\n",
            "\n",
            "season 2008 amount spent 56200 profit -769.6832835129753\n",
            "          home bets_placed 272 bets_won 179 amount_won 26680.120829982632 \n",
            "          away bets_placed 290 bets_won 123 amount_won 28750.195886504396\n",
            "\n",
            "season 2009 amount spent 56400 profit -3883.4753425932868\n",
            "          home bets_placed 268 bets_won 169 amount_won 26445.53424700077 \n",
            "          away bets_placed 296 bets_won 122 amount_won 26070.990410405946\n",
            "\n",
            "season 2010 amount spent 55000 profit 1613.655317164259\n",
            "          home bets_placed 273 bets_won 187 amount_won 28442.000958035933 \n",
            "          away bets_placed 277 bets_won 124 amount_won 28171.654359128323\n",
            "\n",
            "season 2011 amount spent 56400 profit -2113.136450139951\n",
            "          home bets_placed 282 bets_won 180 amount_won 27532.664679702873 \n",
            "          away bets_placed 282 bets_won 128 amount_won 26754.198870157175\n",
            "\n",
            "season 2012 amount spent 64600 profit -3773.8667609796976\n",
            "          home bets_placed 338 bets_won 224 amount_won 34318.078604623915 \n",
            "          away bets_placed 308 bets_won 127 amount_won 26508.054634396383\n",
            "\n",
            "season 2013 amount spent 62400 profit -3772.910946856966\n",
            "          home bets_placed 317 bets_won 190 amount_won 30086.057446679206 \n",
            "          away bets_placed 307 bets_won 141 amount_won 28541.031606463832\n",
            "\n",
            "season 2014 amount spent 62000 profit 1764.6469972672276\n",
            "          home bets_placed 289 bets_won 189 amount_won 28785.915913862787 \n",
            "          away bets_placed 331 bets_won 161 amount_won 34978.73108340444\n",
            "\n",
            "season 2015 amount spent 60300 profit -5054.3964875621605\n",
            "          home bets_placed 299 bets_won 187 amount_won 27160.600986382637 \n",
            "          away bets_placed 304 bets_won 129 amount_won 28085.002526055203\n",
            "\n",
            "season 2016 amount spent 61800 profit -1178.9187367056584\n",
            "          home bets_placed 311 bets_won 195 amount_won 29415.10694236527 \n",
            "          away bets_placed 307 bets_won 140 amount_won 31205.974320929075\n",
            "\n",
            "season 2017 amount spent 57800 profit 1411.4728076345928\n",
            "          home bets_placed 295 bets_won 193 amount_won 29101.7532443653 \n",
            "          away bets_placed 283 bets_won 142 amount_won 30109.71956326929\n",
            "\n",
            "season 2018 amount spent 58400 profit 512.146741645076\n",
            "          home bets_placed 300 bets_won 191 amount_won 30768.0072030301 \n",
            "          away bets_placed 284 bets_won 130 amount_won 28144.13953861497\n",
            "\n",
            "season 2019 amount spent 40200 profit 1470.5714590393036\n",
            "          home bets_placed 196 bets_won 110 amount_won 17949.492092013534 \n",
            "          away bets_placed 206 bets_won 110 amount_won 23721.07936702577\n",
            "\n",
            "season 2020 amount spent 31000 profit -853.6411016075908\n",
            "          home bets_placed 155 bets_won 81 amount_won 14794.950366085 \n",
            "          away bets_placed 155 bets_won 74 amount_won 15351.408532307409\n",
            "\n",
            "Total amount spent 780200 total profit -21634.88738512425\n"
          ],
          "name": "stdout"
        }
      ]
    },
    {
      "cell_type": "markdown",
      "metadata": {
        "id": "8-FQs2Ex_lgj"
      },
      "source": [
        "<h2>\"Dumb\" betting strategies conclusions<h2>\n",
        "\n",
        "A simple betting strategy is not enough to make us money. Betting based on if it is a home or away team loses us money in both cases. Betting on favorite or underdog loses us money too. However it is intresting we do better off betting on underdogs than favorites.\n",
        "\n",
        "<h2>Actual dumb betting strategies for fun</h2>\n",
        "\n",
        "<h2>Let's bet randomly</h2>"
      ]
    },
    {
      "cell_type": "code",
      "metadata": {
        "colab": {
          "base_uri": "https://localhost:8080/"
        },
        "id": "AOJXAS8B_-Fv",
        "outputId": "3568bc4f-ab58-4f87-ab1a-df8e9402527b"
      },
      "source": [
        "import random\n",
        "def bet_randomly(game_data):\n",
        "  return random.choice([True, False])\n",
        "test_best_strat(bet_randomly)"
      ],
      "execution_count": null,
      "outputs": [
        {
          "output_type": "stream",
          "text": [
            "season 2007 amount spent 57700 profit -1829.7085704893543\n",
            "          home bets_placed 276 bets_won 164 amount_won 25563.511810365664 \n",
            "          away bets_placed 301 bets_won 118 amount_won 30306.779619144985\n",
            "\n",
            "season 2008 amount spent 56200 profit -462.80879978499433\n",
            "          home bets_placed 285 bets_won 173 amount_won 28369.38158682016 \n",
            "          away bets_placed 277 bets_won 104 amount_won 27367.80961339485\n",
            "\n",
            "season 2009 amount spent 56400 profit -5835.8693095458\n",
            "          home bets_placed 287 bets_won 170 amount_won 27382.971771468 \n",
            "          away bets_placed 277 bets_won 104 amount_won 23181.158918986202\n",
            "\n",
            "season 2010 amount spent 55000 profit -1615.2306541966827\n",
            "          home bets_placed 266 bets_won 170 amount_won 26891.939176325093 \n",
            "          away bets_placed 284 bets_won 114 amount_won 26492.830169478228\n",
            "\n",
            "season 2011 amount spent 56400 profit -2303.39790062877\n",
            "          home bets_placed 289 bets_won 172 amount_won 26661.77916812696 \n",
            "          away bets_placed 275 bets_won 113 amount_won 27434.82293124427\n",
            "\n",
            "season 2012 amount spent 64600 profit -1102.360075401266\n",
            "          home bets_placed 306 bets_won 193 amount_won 31517.978643151204 \n",
            "          away bets_placed 340 bets_won 128 amount_won 31979.66128144753\n",
            "\n",
            "season 2013 amount spent 62400 profit -945.8721519999672\n",
            "          home bets_placed 298 bets_won 172 amount_won 28389.457106728856 \n",
            "          away bets_placed 326 bets_won 142 amount_won 33064.67074127118\n",
            "\n",
            "season 2014 amount spent 62000 profit 1062.29796960346\n",
            "          home bets_placed 305 bets_won 184 amount_won 30889.820752966003 \n",
            "          away bets_placed 315 bets_won 140 amount_won 32172.477216637453\n",
            "\n",
            "season 2015 amount spent 60300 profit -2194.8633696118923\n",
            "          home bets_placed 295 bets_won 175 amount_won 29980.300836246537 \n",
            "          away bets_placed 308 bets_won 121 amount_won 28124.835794141574\n",
            "\n",
            "season 2016 amount spent 61800 profit -1482.5785825225757\n",
            "          home bets_placed 320 bets_won 187 amount_won 32128.273224651006 \n",
            "          away bets_placed 298 bets_won 123 amount_won 28189.148192826415\n",
            "\n",
            "season 2017 amount spent 57800 profit -6724.116769224071\n",
            "          home bets_placed 272 bets_won 151 amount_won 23864.98437763648 \n",
            "          away bets_placed 306 bets_won 123 amount_won 27210.89885313945\n",
            "\n",
            "season 2018 amount spent 58400 profit -3865.9424181498034\n",
            "          home bets_placed 270 bets_won 155 amount_won 25350.984880245316 \n",
            "          away bets_placed 314 bets_won 124 amount_won 29183.07270160488\n",
            "\n",
            "season 2019 amount spent 40200 profit 72.81955758605181\n",
            "          home bets_placed 194 bets_won 96 amount_won 16197.572832237696 \n",
            "          away bets_placed 208 bets_won 98 amount_won 24075.246725348356\n",
            "\n",
            "season 2020 amount spent 31000 profit 108.87249666283606\n",
            "          home bets_placed 169 bets_won 84 amount_won 16519.933055901318 \n",
            "          away bets_placed 141 bets_won 63 amount_won 14588.939440761516\n",
            "\n",
            "Total amount spent 780200 total profit -27118.75857770283\n"
          ],
          "name": "stdout"
        }
      ]
    },
    {
      "cell_type": "markdown",
      "metadata": {
        "id": "JTD09qetAnUf"
      },
      "source": [
        "<h2>Let's bet on the team with a larger team id</h2>"
      ]
    },
    {
      "cell_type": "code",
      "metadata": {
        "colab": {
          "base_uri": "https://localhost:8080/"
        },
        "id": "kExGGduUArJl",
        "outputId": "15ed55af-cf5b-4e98-b86a-dd1d9008418f"
      },
      "source": [
        "def bet_team_id(game_data):\n",
        "  return game_data[\"home_team_id\"] > game_data[\"away_team_id\"]\n",
        "\n",
        "test_best_strat(bet_team_id)"
      ],
      "execution_count": null,
      "outputs": [
        {
          "output_type": "stream",
          "text": [
            "season 2007 amount spent 57700 profit -1771.9614833191881\n",
            "          home bets_placed 280 bets_won 159 amount_won 24468.42521060166 \n",
            "          away bets_placed 297 bets_won 109 amount_won 31459.61330607915\n",
            "\n",
            "season 2008 amount spent 56200 profit -889.1591782989053\n",
            "          home bets_placed 275 bets_won 159 amount_won 29573.534130238622 \n",
            "          away bets_placed 287 bets_won 100 amount_won 25737.306691462472\n",
            "\n",
            "season 2009 amount spent 56400 profit -4355.865076943774\n",
            "          home bets_placed 289 bets_won 168 amount_won 26945.244934954197 \n",
            "          away bets_placed 275 bets_won 100 amount_won 25098.88998810203\n",
            "\n",
            "season 2010 amount spent 55000 profit -1494.8712868188086\n",
            "          home bets_placed 270 bets_won 148 amount_won 25690.93822011203 \n",
            "          away bets_placed 280 bets_won 88 amount_won 27814.19049306916\n",
            "\n",
            "season 2011 amount spent 56400 profit -4494.714668994246\n",
            "          home bets_placed 287 bets_won 151 amount_won 25940.331761677622 \n",
            "          away bets_placed 277 bets_won 94 amount_won 25964.953569328132\n",
            "\n",
            "season 2012 amount spent 64600 profit -5857.345110362046\n",
            "          home bets_placed 320 bets_won 185 amount_won 32191.957243914454 \n",
            "          away bets_placed 326 bets_won 106 amount_won 26550.697645723496\n",
            "\n",
            "season 2013 amount spent 62400 profit 3239.552750396513\n",
            "          home bets_placed 307 bets_won 182 amount_won 30501.281818848234 \n",
            "          away bets_placed 317 bets_won 143 amount_won 35138.27093154827\n",
            "\n",
            "season 2014 amount spent 62000 profit -3833.105066993696\n",
            "          home bets_placed 309 bets_won 175 amount_won 28343.786915087192 \n",
            "          away bets_placed 311 bets_won 127 amount_won 29823.108017919112\n",
            "\n",
            "season 2015 amount spent 60300 profit -1058.5107093767801\n",
            "          home bets_placed 296 bets_won 176 amount_won 29658.26182858889 \n",
            "          away bets_placed 307 bets_won 121 amount_won 29583.22746203433\n",
            "\n",
            "season 2016 amount spent 61800 profit -1385.1685576519521\n",
            "          home bets_placed 304 bets_won 165 amount_won 28443.61602684676 \n",
            "          away bets_placed 314 bets_won 117 amount_won 31971.21541550129\n",
            "\n",
            "season 2017 amount spent 57800 profit -4462.0619704615965\n",
            "          home bets_placed 296 bets_won 160 amount_won 25880.492407885486 \n",
            "          away bets_placed 282 bets_won 108 amount_won 27457.445621652914\n",
            "\n",
            "season 2018 amount spent 58400 profit 4264.768718943691\n",
            "          home bets_placed 304 bets_won 176 amount_won 31866.193866963276 \n",
            "          away bets_placed 280 bets_won 111 amount_won 30798.574851980415\n",
            "\n",
            "season 2019 amount spent 40200 profit 4890.723669625928\n",
            "          home bets_placed 195 bets_won 90 amount_won 18532.863529219536 \n",
            "          away bets_placed 207 bets_won 91 amount_won 26557.860140406392\n",
            "\n",
            "season 2020 amount spent 31000 profit 3792.88762160801\n",
            "          home bets_placed 156 bets_won 81 amount_won 17394.389088483123 \n",
            "          away bets_placed 154 bets_won 73 amount_won 17398.49853312489\n",
            "\n",
            "Total amount spent 780200 total profit -13414.83034864685\n"
          ],
          "name": "stdout"
        }
      ]
    },
    {
      "cell_type": "markdown",
      "metadata": {
        "id": "XXqUkFNvBwtV"
      },
      "source": [
        "<h2>Nonesense betting stratey</h2>\n"
      ]
    },
    {
      "cell_type": "code",
      "metadata": {
        "colab": {
          "base_uri": "https://localhost:8080/"
        },
        "id": "l_2GH9cMBywA",
        "outputId": "fdd4c58e-5105-41e0-de67-b057546f9854"
      },
      "source": [
        "def bet_nonesense(game_data):\n",
        "  return (game_data[\"home_team_id\"] + game_data[\"away_team_id\"]) % 97 <= (game_data[\"game_id\"] * 372) % 101\n",
        "\n",
        "test_best_strat(bet_nonesense)"
      ],
      "execution_count": null,
      "outputs": [
        {
          "output_type": "stream",
          "text": [
            "season 2007 amount spent 57700 profit 41.435486700895126\n",
            "          home bets_placed 373 bets_won 227 amount_won 36392.38200412102 \n",
            "          away bets_placed 204 bets_won 84 amount_won 21349.05348257988\n",
            "\n",
            "season 2008 amount spent 56200 profit 3330.150922652443\n",
            "          home bets_placed 383 bets_won 239 amount_won 40474.76182175163 \n",
            "          away bets_placed 179 bets_won 72 amount_won 19055.389100900815\n",
            "\n",
            "season 2009 amount spent 56400 profit 1272.438244785335\n",
            "          home bets_placed 368 bets_won 227 amount_won 37093.73512883736 \n",
            "          away bets_placed 196 bets_won 80 amount_won 20578.703115947974\n",
            "\n",
            "season 2010 amount spent 55000 profit -5491.468093844145\n",
            "          home bets_placed 367 bets_won 221 amount_won 34376.49988148474 \n",
            "          away bets_placed 183 bets_won 64 amount_won 15132.032024671109\n",
            "\n",
            "season 2011 amount spent 56400 profit -2180.350946411607\n",
            "          home bets_placed 372 bets_won 220 amount_won 35801.49045579878 \n",
            "          away bets_placed 192 bets_won 78 amount_won 18418.158597789607\n",
            "\n",
            "season 2012 amount spent 64600 profit 565.3727650702858\n",
            "          home bets_placed 418 bets_won 270 amount_won 43450.72629702553 \n",
            "          away bets_placed 228 bets_won 93 amount_won 21714.646468044753\n",
            "\n",
            "season 2013 amount spent 62400 profit -1525.2333246816124\n",
            "          home bets_placed 399 bets_won 229 amount_won 37326.63160100854 \n",
            "          away bets_placed 225 bets_won 98 amount_won 23548.135074309845\n",
            "\n",
            "season 2014 amount spent 62000 profit -1650.3644920966763\n",
            "          home bets_placed 404 bets_won 236 amount_won 38792.17573612634 \n",
            "          away bets_placed 216 bets_won 93 amount_won 21557.459771776987\n",
            "\n",
            "season 2015 amount spent 60300 profit -4282.576754855247\n",
            "          home bets_placed 387 bets_won 224 amount_won 37663.345383936394 \n",
            "          away bets_placed 216 bets_won 78 amount_won 18354.07786120836\n",
            "\n",
            "season 2016 amount spent 61800 profit 952.271765691723\n",
            "          home bets_placed 422 bets_won 252 amount_won 42666.796290349725 \n",
            "          away bets_placed 196 bets_won 86 amount_won 20085.475475342002\n",
            "\n",
            "season 2017 amount spent 57800 profit -1821.9365868042223\n",
            "          home bets_placed 388 bets_won 227 amount_won 36031.47332300721 \n",
            "          away bets_placed 190 bets_won 83 amount_won 19946.590090188573\n",
            "\n",
            "season 2018 amount spent 58400 profit -4965.572414849215\n",
            "          home bets_placed 400 bets_won 226 amount_won 38884.99270265696 \n",
            "          away bets_placed 184 bets_won 65 amount_won 14549.434882493824\n",
            "\n",
            "season 2019 amount spent 40200 profit 57.099204850215756\n",
            "          home bets_placed 275 bets_won 147 amount_won 24892.29319409113 \n",
            "          away bets_placed 127 bets_won 68 amount_won 15364.806010759086\n",
            "\n",
            "season 2020 amount spent 31000 profit 637.9651861519451\n",
            "          home bets_placed 201 bets_won 102 amount_won 20186.73578696566 \n",
            "          away bets_placed 109 bets_won 49 amount_won 11451.229399186284\n",
            "\n",
            "Total amount spent 780200 total profit -15060.769037639882\n"
          ],
          "name": "stdout"
        }
      ]
    },
    {
      "cell_type": "markdown",
      "metadata": {
        "id": "MFzYBO70CZvd"
      },
      "source": [
        "<h2>Let's try an actual approach using Q learning</h2>"
      ]
    },
    {
      "cell_type": "markdown",
      "metadata": {
        "id": "n9pXahRxxrnX"
      },
      "source": [
        "<h2>Load tensorflow to create Q learning agent</h2>"
      ]
    },
    {
      "cell_type": "code",
      "metadata": {
        "id": "gecM7rz8vnO8"
      },
      "source": [
        "from collections import deque\n",
        "import random\n",
        "import tensorflow.compat.v1 as tf\n",
        "import numpy as np\n",
        "tf.compat.v1.disable_eager_execution()"
      ],
      "execution_count": null,
      "outputs": []
    },
    {
      "cell_type": "markdown",
      "metadata": {
        "id": "Bx5nYrunfWmy"
      },
      "source": [
        "<h2>Define Q agent</h2>\n",
        "\n",
        "[Adapted from this article](https://www.analyticsvidhya.com/blog/2021/01/bear-run-or-bull-run-can-reinforcement-learning-help-in-automated-trading/)\n",
        "\n",
        "The code was diffucult (at least for me) to get my head around. To try to counter this the methods were made functions so we can break up the code into different colab cells, and the code will be commented heavily.\n",
        "\n",
        "<h2>Model and parameter defining</h2>"
      ]
    },
    {
      "cell_type": "code",
      "metadata": {
        "id": "l7ssl2lUfaPm"
      },
      "source": [
        "class Agent:\n",
        "      def __init__(self, state_size, window_size, data, skip, batch_size, bet_results):\n",
        "        # Our model works with a sliding window. Essentially we consider\n",
        "        # the past n betting observations (let's say n = 3 for example). \n",
        "        # These are our states. We consider each betting observation to be a state.\n",
        "        # The stock market considered each day close to be a state. This makes sense\n",
        "        # intuitively that each game we have an action to make (bet or not bet).\n",
        "        self.state_size = state_size\n",
        "        self.window_size = window_size\n",
        "        self.half_window = window_size // 2\n",
        "\n",
        "        self.bet_amount = 100\n",
        "        self.bet_results = bet_results\n",
        "\n",
        "        # Data is our actual data ie the moneylines.        \n",
        "        self.data = data\n",
        "        # Skip is the number of betting observations to advance.\n",
        "        self.skip = skip\n",
        "        # Action size is the number of actions we can take (bet or not bet on a game). \n",
        "        # Importantly a single game makes two betting observations.\n",
        "        self.action_size = 2\n",
        "        # Batch size is the amount of data in each batch\n",
        "        self.batch_size = batch_size\n",
        "\n",
        "        # Memory is used is the length of our memory queue\n",
        "        self.memory = deque(maxlen = 1000)\n",
        "\n",
        "        # Gamma is the amount of reward we give to future actions\n",
        "        self.gamma = 0.95\n",
        "\n",
        "        # Epsilon is the value in which our model makes a completly random choice.\n",
        "        # It starts off high and decays over time as our model learns.\n",
        "        self.epsilon = 0.5\n",
        "        self.epsilon_min = 0.01\n",
        "        self.epsilon_decay = 0.999\n",
        "\n",
        "        # Resets and creates a tensorflow session\n",
        "        tf.reset_default_graph()\n",
        "        self.sess = tf.InteractiveSession()\n",
        "\n",
        "        # Our tensors defined used in calculating the probality of the actions\n",
        "        self.X = tf.placeholder(tf.float32, [None, self.state_size])\n",
        "        self.Y = tf.placeholder(tf.float32, [None, self.action_size])\n",
        "        \n",
        "        # Our logits used in calculating the probality.\n",
        "        feed = tf.layers.dense(self.X, 256, activation = tf.nn.relu)        \n",
        "        self.logits = tf.layers.dense(feed, self.action_size)\n",
        "        # Cost is how we determine how good our model is.\n",
        "        self.cost = tf.reduce_mean(tf.square(self.Y - self.logits))\n",
        "        # Our optimizer to help train our model\n",
        "        self.optimizer = tf.train.GradientDescentOptimizer(1e-7).minimize(\n",
        "            self.cost\n",
        "        )\n",
        "\n",
        "        self.sess.run(tf.global_variables_initializer())"
      ],
      "execution_count": null,
      "outputs": []
    },
    {
      "cell_type": "markdown",
      "metadata": {
        "id": "9-PKsCEeb0JS"
      },
      "source": [
        "<h2>How does our model handle state?</h2>\n",
        "\n",
        "Our model state is the window of previous actions. If we at game 100 then our state will be an array of the past N (N = window size) games with the last entry being the 100th game.\n",
        "\n",
        "To get our state we just return the subarray and pad the array with zeros if we are at the start of the array and have no previous games to include."
      ]
    },
    {
      "cell_type": "code",
      "metadata": {
        "colab": {
          "base_uri": "https://localhost:8080/"
        },
        "id": "VzQKxpUQb2eC",
        "outputId": "39fc225f-f418-4e94-91a9-02f6544766a8"
      },
      "source": [
        "def get_state(model, t): # Get an array of amounts we would get if we bet \n",
        "        window_size = model.window_size \n",
        "        d = t - window_size \n",
        "        \n",
        "        block = None\n",
        "        if d >= 0:\n",
        "          block = model.data[d : t]\n",
        "        else: # If we are at the start of the data pad it with first values\n",
        "          block = -d * [0] + model.data[0 : t]\n",
        "        res = []\n",
        "\n",
        "\n",
        "        return np.array([block])\n",
        "\n",
        "  \n",
        "initial_money = 10000\n",
        "window_size = 30\n",
        "skip = 1\n",
        "batch_size = 32\n",
        "model = Agent(state_size = window_size, \n",
        "              window_size = window_size, \n",
        "              data = cleansed_game_data[\"home_ml\"].tolist()[:1000], \n",
        "              skip = skip, \n",
        "              batch_size = batch_size,\n",
        "              bet_results = cleansed_game_data[\"home_team_won\"].tolist()[:1000])\n",
        "get_state(model, 10)"
      ],
      "execution_count": null,
      "outputs": [
        {
          "output_type": "stream",
          "text": [
            "/usr/local/lib/python3.7/dist-packages/tensorflow/python/keras/legacy_tf_layers/core.py:171: UserWarning: `tf.layers.dense` is deprecated and will be removed in a future version. Please use `tf.keras.layers.Dense` instead.\n",
            "  warnings.warn('`tf.layers.dense` is deprecated and '\n",
            "/usr/local/lib/python3.7/dist-packages/tensorflow/python/keras/engine/base_layer_v1.py:1719: UserWarning: `layer.apply` is deprecated and will be removed in a future version. Please use `layer.__call__` method instead.\n",
            "  warnings.warn('`layer.apply` is deprecated and '\n"
          ],
          "name": "stderr"
        },
        {
          "output_type": "execute_result",
          "data": {
            "text/plain": [
              "array([[   0.,    0.,    0.,    0.,    0.,    0.,    0.,    0.,    0.,\n",
              "           0.,    0.,    0.,    0.,    0.,    0.,    0.,    0.,    0.,\n",
              "           0.,    0., -325.,  190.,  220., -155., -450., -110.,  330.,\n",
              "        -215., -600., -175.]])"
            ]
          },
          "metadata": {
            "tags": []
          },
          "execution_count": 22
        }
      ]
    },
    {
      "cell_type": "markdown",
      "metadata": {
        "id": "QXJWVm5DaENb"
      },
      "source": [
        "<h2>How does our model choose actions?</h2>\n",
        "\n",
        "First what are our actions? Make a bet on the game (value of $100) or don't make a bet on the game.\n",
        "\n",
        "Two ways. Way one if we roll our dice to be within the epsilon we just return a random action. Way two is to get it from applying our state to our logits (my best understanding of logits is [\"the tensor we apply argmax to get the predicted class\"](https://stackoverflow.com/questions/41455101/what-is-the-meaning-of-the-word-logits-in-tensorflow)). Training our model will set the logits."
      ]
    },
    {
      "cell_type": "code",
      "metadata": {
        "id": "qVAy87eAbKX2"
      },
      "source": [
        "def act(model, state): # Choose an action to take based off our current window.\n",
        "    if random.random() <= model.epsilon: # epsilon (0.5 default) of the time do a complete random action\n",
        "        return random.randrange(model.action_size)\n",
        "        # Otherwise get the maximum value from our model's logits.\n",
        "        return np.argmax(\n",
        "            model.sess.run(model.logits, feed_dict = {model.X: state})[0]\n",
        "        )"
      ],
      "execution_count": null,
      "outputs": []
    },
    {
      "cell_type": "markdown",
      "metadata": {
        "id": "tiFBeckpeIbW"
      },
      "source": [
        "<h2>How does the model train?</h2>\n",
        "\n",
        "The model train goes for a number of epochs and prints out info about how the training goes every checkpoint.\n",
        "\n",
        "For each epoch go through each point in our dataset and adjust our state / window.\n",
        "\n",
        "We have our model choose if we should buy or not. If we should buy then we should update our money (both the cost of the bet and the potential reward if we won).\n",
        "\n",
        "We then call our replay function to actually do the real work and update our model weights."
      ]
    },
    {
      "cell_type": "code",
      "metadata": {
        "id": "08Hsn3L-eJ0E"
      },
      "source": [
        "def train(model, iterations, checkpoint, initial_money):\n",
        "        epochs = []\n",
        "        costs = []\n",
        "        money = []\n",
        "        # For the number of training iterations\n",
        "        for i in range(iterations):\n",
        "            # Initialize everything including states to 0.\n",
        "            total_profit = 0\n",
        "            inventory = []\n",
        "            state = get_state(model, 0) \n",
        "            starting_money = initial_money\n",
        "\n",
        "            # Go through each data point in our dataset.\n",
        "            for t in range(0, len(model.data) - 1, model.skip):\n",
        "                # Choose an action.\n",
        "                action = act(model, state)\n",
        "\n",
        "                # Get our next state.\n",
        "                next_state = get_state(model, t + 1)\n",
        "\n",
        "                # If we choose to bet and we have the money for it, and aren't betting too close to the end of our data.\n",
        "                if action == 1 and starting_money >= model.bet_amount and t < (len(model.data) - model.half_window):\n",
        "                    starting_money -= model.bet_amount\n",
        "                    if model.bet_results[t]: # Won bet!\n",
        "                      starting_money += get_return(model.data[t], model.bet_amount)\n",
        "\n",
        "\n",
        "                # A measure of how well we are doing relative to our initial money.\n",
        "                invest = ((starting_money - initial_money) / initial_money)\n",
        "\n",
        "                # Store these states and the action we took into our model memory.\n",
        "                # Also store if we are doing better than if we didn't bet at all.\n",
        "                model.memory.append((state, action, invest, \n",
        "                                    next_state, starting_money < initial_money))\n",
        "                \n",
        "            \n",
        "                state = next_state # Update our state\n",
        "                # Either update our weights with a batch size of the len of memory or our batch size.\n",
        "                batch_size = min(model.batch_size, len(model.memory)) \n",
        "                cost = replay(model, batch_size) # Update our model weights.\n",
        "\n",
        "            if (i+1) % checkpoint == 0: # Output information about how the training is going\n",
        "                print('epoch: %d cost: %f, total money: %f'%(i + 1, cost,\n",
        "                                                                                  starting_money))\n",
        "            epochs.append(i)\n",
        "            costs.append(cost)\n",
        "            money.append(starting_money)\n",
        "        return epochs, costs, money\n",
        "                "
      ],
      "execution_count": null,
      "outputs": []
    },
    {
      "cell_type": "markdown",
      "metadata": {
        "id": "f4AyCWE8bXw-"
      },
      "source": [
        "<h2>What does replay do?</h2>\n",
        "\n",
        "Replay gets a batch of data. Resets X and Y of our model.\n",
        "\n",
        "It gets the states and new_states in our batch. It calculates a Q and Q_new. It then uses this information to build our X and Y tensors. We then run an optimizier on our model using these calculated X and Y tensors. \n",
        "\n",
        "That is the high level understanding of this. Beyond this you pretty much need to get into the equations."
      ]
    },
    {
      "cell_type": "code",
      "metadata": {
        "id": "e-ugnKStcabg"
      },
      "source": [
        "def replay(model, batch_size):\n",
        "        # Create a batch of data from most recent memory of batch_size. \n",
        "        mini_batch = []\n",
        "        l = len(model.memory)\n",
        "        for i in range(l - batch_size, l):\n",
        "            mini_batch.append(model.memory[i])\n",
        "        replay_size = len(mini_batch)\n",
        "\n",
        "        # Reset our X and Y. \n",
        "        X = np.empty((replay_size, model.state_size))\n",
        "        Y = np.empty((replay_size, model.action_size))\n",
        "\n",
        "        # Get states in our memory.\n",
        "        # Get the new states in our memory. Somewhat normalize the values\n",
        "        # so we don't have large values like -600 and +800.\n",
        "        states = np.array([a[0][0] for a in mini_batch]) / 1000\n",
        "        new_states = np.array([a[3][0] for a in mini_batch]) / 1000\n",
        "\n",
        "        # Calculate Q and Q_new off our weights\n",
        "        Q = model.sess.run(model.logits, feed_dict = {model.X: states})\n",
        "        Q_new = model.sess.run(model.logits, feed_dict = {model.X: new_states})\n",
        "        \n",
        "        # For each sample in our mini batch,\n",
        "        for i in range(len(mini_batch)):\n",
        "            # Get values in memory.\n",
        "            state, action, reward, next_state, done = mini_batch[i]\n",
        "\n",
        "            # Get target value which we will set a part of Y to.\n",
        "            target = Q[i]\n",
        "            target[action] = reward\n",
        "            if not done:\n",
        "                target[action] += model.gamma * np.amax(Q_new[i])\n",
        "\n",
        "            # Update X and Y.\n",
        "            X[i] = state\n",
        "            Y[i] = target\n",
        "        cost, _ = model.sess.run(\n",
        "            [model.cost, model.optimizer], feed_dict = {model.X: X, model.Y: Y}\n",
        "        )\n",
        "\n",
        "        # Decay epsilon (the randomness each training iteration) if needed.\n",
        "        if model.epsilon > model.epsilon_min:\n",
        "            model.epsilon *= model.epsilon_decay\n",
        "\n",
        "        return cost"
      ],
      "execution_count": null,
      "outputs": []
    },
    {
      "cell_type": "markdown",
      "metadata": {
        "id": "mF2kFNwjxknl"
      },
      "source": [
        "<h2>How do we use our model?</h2>\n",
        "\n",
        "We can run our model by starting with initial money and going through updating state off the moneylines and choosing actions based off our model's training. \n"
      ]
    },
    {
      "cell_type": "code",
      "metadata": {
        "id": "R1Gea4muxkwR"
      },
      "source": [
        "def run_model(model, initial_money, money_lines, bet_results):\n",
        "        # Initialize buy function\n",
        "        starting_money = initial_money\n",
        "        bought = []\n",
        "        model.data = money_lines\n",
        "        model.bet_results = bet_results\n",
        "\n",
        "        state = get_state(model, 0)\n",
        "        for t in range(0, len(model.data) - 1, model.skip):\n",
        "            action = act(model, state)\n",
        "            next_state = get_state(model, t + 1)\n",
        "            # If we choose to bet and we have the money for it, and aren't betting too close to the end of our data.\n",
        "            if action == 1 and starting_money >= model.bet_amount and t < (len(model.data) - model.half_window):\n",
        "               starting_money -= model.bet_amount\n",
        "               if model.bet_results[t]: # Won bet!\n",
        "                  starting_money += get_return(model.data[t], model.bet_amount)\n",
        "               bought.append(True)\n",
        "            else:\n",
        "              bought.append(False)\n",
        "            state = next_state\n",
        "\n",
        "\n",
        "        return bought, starting_money\n"
      ],
      "execution_count": null,
      "outputs": []
    },
    {
      "cell_type": "markdown",
      "metadata": {
        "id": "7ow3hpzuzfb0"
      },
      "source": [
        "<h2>Create a test and train dataset</h2>"
      ]
    },
    {
      "cell_type": "code",
      "metadata": {
        "colab": {
          "base_uri": "https://localhost:8080/"
        },
        "id": "yQBfw2bxjVMD",
        "outputId": "6ad59caa-c6ee-4578-ec59-24d5e1a972c1"
      },
      "source": [
        "# Create train and test dataset\n",
        "train_mls, train_bet_results = [], []\n",
        "test_mls, test_bet_results = [], []\n",
        "for game in cleansed_game_data.iterrows():\n",
        "    if game[1][\"season\"] < 2017: # Split the data just on the 2017 season\n",
        "      train_mls.append(game[1][\"home_ml\"])\n",
        "      train_mls.append(game[1][\"away_ml\"])\n",
        "      train_bet_results.append(game[1][\"home_team_won\"])\n",
        "      train_bet_results.append(not game[1][\"home_team_won\"])\n",
        "    else:\n",
        "      test_mls.append(game[1][\"home_ml\"])\n",
        "      test_mls.append(game[1][\"away_ml\"])\n",
        "      test_bet_results.append(game[1][\"home_team_won\"])\n",
        "      test_bet_results.append(not game[1][\"home_team_won\"])\n",
        "\n",
        "print(len(train_mls), len(train_bet_results))\n",
        "print(len(test_mls), len(test_bet_results))"
      ],
      "execution_count": null,
      "outputs": [
        {
          "output_type": "stream",
          "text": [
            "11856 11856\n",
            "3748 3748\n"
          ],
          "name": "stdout"
        }
      ]
    },
    {
      "cell_type": "markdown",
      "metadata": {
        "id": "nmC9my_B0kN1"
      },
      "source": [
        "<h2>Train the model</h2>"
      ]
    },
    {
      "cell_type": "code",
      "metadata": {
        "colab": {
          "base_uri": "https://localhost:8080/"
        },
        "id": "ukKwbd40xQ0Z",
        "outputId": "d605041c-40be-4b10-fcef-0f54cb18811c"
      },
      "source": [
        "model = Agent(state_size = window_size, \n",
        "              window_size = window_size, \n",
        "              data = train_mls, \n",
        "              skip = skip, \n",
        "              batch_size = batch_size,\n",
        "              bet_results = train_bet_results)\n",
        "\n",
        "epochs, costs, moneys = train(model, 200, 5, 1000)"
      ],
      "execution_count": null,
      "outputs": [
        {
          "output_type": "stream",
          "text": [
            "/usr/local/lib/python3.7/dist-packages/tensorflow/python/client/session.py:1761: UserWarning: An interactive session is already active. This can cause out-of-memory errors in some cases. You must explicitly call `InteractiveSession.close()` to release resources held by the other session(s).\n",
            "  warnings.warn('An interactive session is already active. This can '\n",
            "/usr/local/lib/python3.7/dist-packages/tensorflow/python/keras/legacy_tf_layers/core.py:171: UserWarning: `tf.layers.dense` is deprecated and will be removed in a future version. Please use `tf.keras.layers.Dense` instead.\n",
            "  warnings.warn('`tf.layers.dense` is deprecated and '\n",
            "/usr/local/lib/python3.7/dist-packages/tensorflow/python/keras/engine/base_layer_v1.py:1719: UserWarning: `layer.apply` is deprecated and will be removed in a future version. Please use `layer.__call__` method instead.\n",
            "  warnings.warn('`layer.apply` is deprecated and '\n"
          ],
          "name": "stderr"
        },
        {
          "output_type": "stream",
          "text": [
            "epoch: 5 cost: 13.911597, total money: 69.063714\n",
            "epoch: 10 cost: 5.030323, total money: 3261.478681\n",
            "epoch: 15 cost: 1.762945, total money: 147.720052\n",
            "epoch: 20 cost: 0.969401, total money: 1952.074097\n",
            "epoch: 25 cost: 0.395475, total money: 27.667995\n",
            "epoch: 30 cost: 0.251136, total money: 1549.610011\n",
            "epoch: 35 cost: 0.140487, total money: 990.154550\n",
            "epoch: 40 cost: 0.086827, total money: 1541.589281\n",
            "epoch: 45 cost: 0.110665, total money: 2244.223141\n",
            "epoch: 50 cost: 0.055852, total money: 43.940736\n",
            "epoch: 55 cost: 0.195049, total money: 2933.559291\n",
            "epoch: 60 cost: 0.104550, total money: 2431.747073\n",
            "epoch: 65 cost: 0.008064, total money: 1168.528998\n",
            "epoch: 70 cost: 0.030822, total money: 1841.120298\n",
            "epoch: 75 cost: 0.031818, total money: 62.669503\n",
            "epoch: 80 cost: 0.033102, total money: 39.923732\n",
            "epoch: 85 cost: 0.031215, total money: 63.476963\n",
            "epoch: 90 cost: 0.010412, total money: 1467.198105\n",
            "epoch: 95 cost: 0.026289, total money: 1830.433227\n",
            "epoch: 100 cost: 0.030851, total money: 55.494871\n",
            "epoch: 105 cost: 0.008889, total money: 1393.434419\n",
            "epoch: 110 cost: 0.031497, total money: 67.528043\n",
            "epoch: 115 cost: 0.048954, total money: 74.330035\n",
            "epoch: 120 cost: 0.003144, total money: 1243.205819\n",
            "epoch: 125 cost: 0.061772, total money: 2322.609892\n",
            "epoch: 130 cost: 0.111405, total money: 2377.539111\n",
            "epoch: 135 cost: 0.000342, total money: 938.711562\n",
            "epoch: 140 cost: 0.033769, total money: 26.808443\n",
            "epoch: 145 cost: 0.016854, total money: 1526.283653\n",
            "epoch: 150 cost: 0.044018, total money: 59.503799\n",
            "epoch: 155 cost: 0.007941, total money: 519.616120\n",
            "epoch: 160 cost: 0.033781, total money: 3.898305\n",
            "epoch: 165 cost: 0.021117, total money: 1733.561703\n",
            "epoch: 170 cost: 0.016246, total money: 349.632114\n",
            "epoch: 175 cost: 0.014663, total money: 1655.750482\n",
            "epoch: 180 cost: 0.035472, total money: 87.672611\n",
            "epoch: 185 cost: 0.004602, total money: 1353.686609\n",
            "epoch: 190 cost: 0.097526, total money: 2504.920625\n",
            "epoch: 195 cost: 0.031736, total money: 48.608681\n",
            "epoch: 200 cost: 0.029534, total money: 66.742316\n"
          ],
          "name": "stdout"
        }
      ]
    },
    {
      "cell_type": "markdown",
      "metadata": {
        "id": "4Keb4d3V0f42"
      },
      "source": [
        "<h2>Run the model on the test dataset</h2>"
      ]
    },
    {
      "cell_type": "code",
      "metadata": {
        "colab": {
          "base_uri": "https://localhost:8080/"
        },
        "id": "i-jxLgYr6hVo",
        "outputId": "19166394-6c83-4e15-aaf8-b86bc2aabfaa"
      },
      "source": [
        "bought, money = run_model(model, 1000, test_mls, test_bet_results)\n",
        "print(money)"
      ],
      "execution_count": null,
      "outputs": [
        {
          "output_type": "stream",
          "text": [
            "563.3695698994206\n"
          ],
          "name": "stdout"
        }
      ]
    },
    {
      "cell_type": "markdown",
      "metadata": {
        "id": "7BwvyTCD9aJd"
      },
      "source": [
        "<h2>Plot training metrics</h2>"
      ]
    },
    {
      "cell_type": "code",
      "metadata": {
        "colab": {
          "base_uri": "https://localhost:8080/",
          "height": 282
        },
        "id": "8N2DYkYd9e1G",
        "outputId": "7571ee6d-3ea8-42bf-c9ed-c263cec15c81"
      },
      "source": [
        "import matplotlib.pyplot as plt\n",
        "\n",
        "plt.plot(epochs, costs)"
      ],
      "execution_count": null,
      "outputs": [
        {
          "output_type": "execute_result",
          "data": {
            "text/plain": [
              "[<matplotlib.lines.Line2D at 0x7f78ae9e30d0>]"
            ]
          },
          "metadata": {
            "tags": []
          },
          "execution_count": 66
        },
        {
          "output_type": "display_data",
          "data": {
            "image/png": "[encoded data removed]",
            "text/plain": [
              "<Figure size 432x288 with 1 Axes>"
            ]
          },
          "metadata": {
            "tags": [],
            "needs_background": "light"
          }
        }
      ]
    },
    {
      "cell_type": "code",
      "metadata": {
        "colab": {
          "base_uri": "https://localhost:8080/",
          "height": 282
        },
        "id": "dVO6FJKw-V4z",
        "outputId": "84f1f170-5846-4cc4-827a-ea266708974c"
      },
      "source": [
        "plt.plot(epochs, moneys)"
      ],
      "execution_count": null,
      "outputs": [
        {
          "output_type": "execute_result",
          "data": {
            "text/plain": [
              "[<matplotlib.lines.Line2D at 0x7f78f7bd6350>]"
            ]
          },
          "metadata": {
            "tags": []
          },
          "execution_count": 67
        },
        {
          "output_type": "display_data",
          "data": {
            "image/png": "[encoded data removed]",
            "text/plain": [
              "<Figure size 432x288 with 1 Axes>"
            ]
          },
          "metadata": {
            "tags": [],
            "needs_background": "light"
          }
        }
      ]
    },
    {
      "cell_type": "markdown",
      "metadata": {
        "id": "zjBhFb7Q9fxZ"
      },
      "source": [
        "<h2>How did we do for the test set?</h2>"
      ]
    },
    {
      "cell_type": "code",
      "metadata": {
        "colab": {
          "base_uri": "https://localhost:8080/",
          "height": 282
        },
        "id": "pLsj4j8g9fI4",
        "outputId": "d3c93313-114b-492e-cbb0-0b19c12d22ef"
      },
      "source": [
        "# Run the model 100 times\n",
        "runs, test_moneys = [], []\n",
        "for i in range(100):\n",
        "  runs.append(i)\n",
        "  _, money = run_model(model, 1000, test_mls, test_bet_results)\n",
        "  test_moneys.append(money)\n",
        "plt.plot(runs, test_moneys)"
      ],
      "execution_count": null,
      "outputs": [
        {
          "output_type": "execute_result",
          "data": {
            "text/plain": [
              "[<matplotlib.lines.Line2D at 0x7f78a6c3c610>]"
            ]
          },
          "metadata": {
            "tags": []
          },
          "execution_count": 71
        },
        {
          "output_type": "display_data",
          "data": {
            "image/png": "[encoded data removed]",
            "text/plain": [
              "<Figure size 432x288 with 1 Axes>"
            ]
          },
          "metadata": {
            "tags": [],
            "needs_background": "light"
          }
        }
      ]
    },
    {
      "cell_type": "markdown",
      "metadata": {
        "id": "n2zR7EgV9sVu"
      },
      "source": [
        "<h2>Save model so we can run it later in the API</h2>\n",
        "\n",
        "To save the model all we really need to do is output our logits weights. "
      ]
    },
    {
      "cell_type": "code",
      "metadata": {
        "colab": {
          "base_uri": "https://localhost:8080/"
        },
        "id": "tVdyu8bI9_6B",
        "outputId": "90778763-355b-47b5-fee1-e12ccdf5d776"
      },
      "source": [
        "saver = tf.train.Saver()\n",
        "\n",
        "saver.save(model.sess, 'out/my-checkpoints')\n",
        "\n",
        "!zip out -r reinforcement_saved.zip out/"
      ],
      "execution_count": null,
      "outputs": [
        {
          "output_type": "stream",
          "text": [
            "\tzip warning: name not matched: reinforcement_saved.zip\n",
            "  adding: out/ (stored 0%)\n",
            "  adding: out/my-checkpoints.meta (deflated 86%)\n",
            "  adding: out/my-checkpoints.data-00000-of-00001 (deflated 7%)\n",
            "  adding: out/checkpoint (deflated 48%)\n",
            "  adding: out/my-checkpoints.index (deflated 32%)\n"
          ],
          "name": "stdout"
        }
      ]
    }
  ]
}